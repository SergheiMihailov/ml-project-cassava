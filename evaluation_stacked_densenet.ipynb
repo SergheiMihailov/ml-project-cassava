{
  "nbformat": 4,
  "nbformat_minor": 0,
  "metadata": {
    "colab": {
      "name": "evaluation_stacked_densenet.ipynb",
      "provenance": [],
      "collapsed_sections": [],
      "include_colab_link": true
    },
    "kernelspec": {
      "name": "python3",
      "display_name": "Python 3"
    },
    "language_info": {
      "name": "python"
    },
    "accelerator": "GPU"
  },
  "cells": [
    {
      "cell_type": "markdown",
      "metadata": {
        "id": "view-in-github",
        "colab_type": "text"
      },
      "source": [
        "<a href=\"https://colab.research.google.com/github/SergheiMihailov/ml-project-cassava/blob/main/evaluation_stacked_densenet.ipynb\" target=\"_parent\"><img src=\"https://colab.research.google.com/assets/colab-badge.svg\" alt=\"Open In Colab\"/></a>"
      ]
    },
    {
      "cell_type": "code",
      "metadata": {
        "id": "GBWoi58yMuUQ",
        "colab": {
          "base_uri": "https://localhost:8080/"
        },
        "outputId": "996e5b4d-cb3a-4d18-9096-fb75485c8482"
      },
      "source": [
        "from google.colab import drive\n",
        "drive.mount('/content/drive')"
      ],
      "execution_count": 1,
      "outputs": [
        {
          "output_type": "stream",
          "text": [
            "Mounted at /content/drive\n"
          ],
          "name": "stdout"
        }
      ]
    },
    {
      "cell_type": "code",
      "metadata": {
        "id": "KFpk33OqSZhO",
        "colab": {
          "base_uri": "https://localhost:8080/"
        },
        "outputId": "54e9e05d-7a2f-4fa9-ee0e-d6cf608e7d2d"
      },
      "source": [
        "!pip install -q -U livelossplot\n",
        "!pip install -q -U keras-tuner"
      ],
      "execution_count": 2,
      "outputs": [
        {
          "output_type": "stream",
          "text": [
            "\u001b[?25l\r\u001b[K     |█████▏                          | 10kB 26.7MB/s eta 0:00:01\r\u001b[K     |██████████▍                     | 20kB 32.0MB/s eta 0:00:01\r\u001b[K     |███████████████▋                | 30kB 23.4MB/s eta 0:00:01\r\u001b[K     |████████████████████▉           | 40kB 26.9MB/s eta 0:00:01\r\u001b[K     |██████████████████████████      | 51kB 28.4MB/s eta 0:00:01\r\u001b[K     |███████████████████████████████▎| 61kB 31.1MB/s eta 0:00:01\r\u001b[K     |████████████████████████████████| 71kB 9.6MB/s \n",
            "\u001b[?25h  Building wheel for keras-tuner (setup.py) ... \u001b[?25l\u001b[?25hdone\n",
            "  Building wheel for terminaltables (setup.py) ... \u001b[?25l\u001b[?25hdone\n"
          ],
          "name": "stdout"
        }
      ]
    },
    {
      "cell_type": "code",
      "metadata": {
        "id": "AIfkKXv7M7P4"
      },
      "source": [
        "# Imports\n",
        "import gdown\n",
        "import os\n",
        "import json\n",
        "import csv   \n",
        "import cv2\n",
        "import numpy as np\n",
        "import pandas as pd\n",
        "from PIL import Image\n",
        "import scipy.misc\n",
        "import sklearn\n",
        "from sklearn.model_selection import StratifiedKFold\n",
        "import tensorflow as tf\n",
        "import keras\n",
        "from keras.models import Sequential\n",
        "from keras.preprocessing.image import ImageDataGenerator\n",
        "from keras import backend as K\n",
        "import tensorflow.keras.layers.experimental.preprocessing as keras_preproc\n",
        "import kerastuner as kt\n",
        "import keras\n",
        "import io\n",
        "import json\n",
        "import pandas as pd\n",
        "import tensorflow as tf\n",
        "import sklearn\n",
        "import matplotlib.pyplot as plt\n",
        "import itertools\n",
        "import numpy as np\n",
        "import os, shutil\n",
        "from datetime import datetime\n",
        "from sklearn.model_selection import train_test_split\n",
        "from keras.preprocessing.image import ImageDataGenerator\n",
        "from keras.preprocessing.image import ImageDataGenerator\n",
        "from keras.models import Sequential\n",
        "from keras.layers import Conv2D, MaxPooling2D\n",
        "from keras.layers import Activation, Dropout, Flatten, Dense\n",
        "from keras import backend as K\n",
        "from collections import Counter\n",
        "import random\n",
        "from keras.models import model_from_json\n",
        "from livelossplot import PlotLossesKeras\n",
        "from keras.callbacks import CSVLogger"
      ],
      "execution_count": 3,
      "outputs": []
    },
    {
      "cell_type": "code",
      "metadata": {
        "id": "4FTNMqFZNEdY"
      },
      "source": [
        "EVALUATION_IMAGES_PATH = 'evaluation_train_images/'\n",
        "EVALUATION_LABELS_PATH = 'evaluation_train_data.csv'\n",
        "TEST_IMAGES_PATH = 'test_images/'\n",
        "TEST_LABELS_PATH = 'test_data.csv'\n",
        "\n",
        "LABEL_TO_DISEASE_MAP_PATH = 'label_num_to_disease_map.json'\n",
        "CONFUSION_MATRICES_PATH = '/content/drive/MyDrive/ml_project/stacked_confusion_matrices_v2/'\n",
        "MODEL_CP_PATH = '/content/drive/MyDrive/ml_project/stacked_models_v2/'\n",
        "HYPERPARAMETERS_PATH = '/content/drive/MyDrive/ml_project/hyperparams_stacked_v2'\n",
        "LOGS_PATH = '/content/drive/MyDrive/ml_project/stacked_logs_v2'\n",
        "\n",
        "N_CLASSES = 5\n",
        "\n",
        "# Images\n",
        "IMG_SIZE = 224\n",
        "SIZE = (IMG_SIZE,IMG_SIZE)\n",
        "INPUT_SHAPE = (IMG_SIZE, IMG_SIZE, 3)\n",
        "\n",
        "# Training\n",
        "EPOCHS_TO_TRAIN = 30\n",
        "BATCH_SIZE = 32"
      ],
      "execution_count": 4,
      "outputs": []
    },
    {
      "cell_type": "code",
      "metadata": {
        "id": "tBo8V2k7NJ1K",
        "colab": {
          "base_uri": "https://localhost:8080/"
        },
        "outputId": "c5b697b1-ea65-4d64-ee0f-b86319803660"
      },
      "source": [
        "os.chdir('/content/')\n",
        "\n",
        "if not os.path.exists(LABEL_TO_DISEASE_MAP_PATH):\n",
        "  !wget files.brainfriz.com/ml_project/label_num_to_disease_map.json\n",
        "\n",
        "# if not os.path.exists(EVALUATION_IMAGES_PATH):\n",
        "  !wget files.brainfriz.com/ml_project/evaluation_data.rar\n",
        "  \n",
        "if not os.path.exists('/content/drive/MyDrive/ml_project/'):\n",
        "  !mkdir /content/drive/MyDrive/ml_project\n",
        "  \n",
        "if not os.path.exists(CONFUSION_MATRICES_PATH):\n",
        "  !mkdir /content/drive/MyDrive/ml_project/stacked_confusion_matrices_v2 #for the confusion matrix images\n",
        "\n",
        "if not os.path.exists(MODEL_CP_PATH):\n",
        "  !mkdir /content/drive/MyDrive/ml_project/stacked_models_v2 # for saved models"
      ],
      "execution_count": 5,
      "outputs": [
        {
          "output_type": "stream",
          "text": [
            "--2021-03-26 13:25:37--  http://files.brainfriz.com/ml_project/label_num_to_disease_map.json\n",
            "Resolving files.brainfriz.com (files.brainfriz.com)... 138.201.201.196\n",
            "Connecting to files.brainfriz.com (files.brainfriz.com)|138.201.201.196|:80... connected.\n",
            "HTTP request sent, awaiting response... 301 Moved Permanently\n",
            "Location: https://files.brainfriz.com/ml_project/label_num_to_disease_map.json [following]\n",
            "--2021-03-26 13:25:37--  https://files.brainfriz.com/ml_project/label_num_to_disease_map.json\n",
            "Connecting to files.brainfriz.com (files.brainfriz.com)|138.201.201.196|:443... connected.\n",
            "HTTP request sent, awaiting response... 200 OK\n",
            "Length: 172 [application/json]\n",
            "Saving to: ‘label_num_to_disease_map.json’\n",
            "\n",
            "label_num_to_diseas 100%[===================>]     172  --.-KB/s    in 0s      \n",
            "\n",
            "2021-03-26 13:25:38 (34.9 MB/s) - ‘label_num_to_disease_map.json’ saved [172/172]\n",
            "\n",
            "--2021-03-26 13:25:38--  http://files.brainfriz.com/ml_project/evaluation_data.rar\n",
            "Resolving files.brainfriz.com (files.brainfriz.com)... 138.201.201.196\n",
            "Connecting to files.brainfriz.com (files.brainfriz.com)|138.201.201.196|:80... connected.\n",
            "HTTP request sent, awaiting response... 301 Moved Permanently\n",
            "Location: https://files.brainfriz.com/ml_project/evaluation_data.rar [following]\n",
            "--2021-03-26 13:25:38--  https://files.brainfriz.com/ml_project/evaluation_data.rar\n",
            "Connecting to files.brainfriz.com (files.brainfriz.com)|138.201.201.196|:443... connected.\n",
            "HTTP request sent, awaiting response... 200 OK\n",
            "Length: 4714950742 (4.4G) [application/x-rar-compressed]\n",
            "Saving to: ‘evaluation_data.rar’\n",
            "\n",
            "evaluation_data.rar 100%[===================>]   4.39G  31.4MB/s    in 2m 26s  \n",
            "\n",
            "2021-03-26 13:28:04 (30.9 MB/s) - ‘evaluation_data.rar’ saved [4714950742/4714950742]\n",
            "\n"
          ],
          "name": "stdout"
        }
      ]
    },
    {
      "cell_type": "code",
      "metadata": {
        "id": "l-ck45Q4NhOq"
      },
      "source": [
        "! unrar x evaluation_data.rar > /dev/null"
      ],
      "execution_count": 6,
      "outputs": []
    },
    {
      "cell_type": "code",
      "metadata": {
        "id": "OIinqJoCNj-X",
        "colab": {
          "base_uri": "https://localhost:8080/"
        },
        "outputId": "778b9dc8-4168-4fba-9cd1-3618dfc8cebf"
      },
      "source": [
        "# Dataset\n",
        "train_data = pd.read_csv(EVALUATION_LABELS_PATH)\n",
        "test_data = pd.read_csv(TEST_LABELS_PATH)\n",
        "\n",
        "f = open(LABEL_TO_DISEASE_MAP_PATH)\n",
        "label_class_name = json.load(f)\n",
        "label_class_name = {int(k):v for k,v in label_class_name.items()}\n",
        "\n",
        "train_data['class_name'] = train_data.label.map(label_class_name)\n",
        "test_data['class_name'] = test_data.label.map(label_class_name)\n",
        "\n",
        "train_datagen = ImageDataGenerator()\n",
        "test_datagen = ImageDataGenerator()\n",
        "\n",
        "train_gen = train_datagen.flow_from_dataframe(train_data,\n",
        "                                directory = EVALUATION_IMAGES_PATH,\n",
        "                                x_col = 'image_id',\n",
        "                                y_col = 'class_name',\n",
        "                                color_mode='rgb',\n",
        "                                class_mode='categorical',\n",
        "                                target_size = SIZE,\n",
        "                                shuffle = True,\n",
        "                                batch_size = BATCH_SIZE)\n",
        "\n",
        "test_gen = test_datagen.flow_from_dataframe(test_data,\n",
        "                                directory = TEST_IMAGES_PATH,\n",
        "                                x_col = 'image_id',\n",
        "                                y_col = 'class_name',\n",
        "                                color_mode='rgb',\n",
        "                                class_mode='categorical',\n",
        "                                target_size = SIZE,\n",
        "                                shuffle = False,\n",
        "                                batch_size = BATCH_SIZE)"
      ],
      "execution_count": 7,
      "outputs": [
        {
          "output_type": "stream",
          "text": [
            "Found 64790 validated image filenames belonging to 5 classes.\n",
            "Found 1000 validated image filenames belonging to 5 classes.\n"
          ],
          "name": "stdout"
        }
      ]
    },
    {
      "cell_type": "code",
      "metadata": {
        "id": "P_jR3DaeOkIW"
      },
      "source": [
        "# Evaluation definitions \n",
        "\n",
        "CONFUSION_MAT_EVERY_X_EPOCHS = 5\n",
        "\n",
        "class ConfusionMatrix(keras.callbacks.Callback):\n",
        "  def __init__(self, val_set, val_y):\n",
        "    self.val_set = val_set\n",
        "    self.val_y = val_y\n",
        "    self.counter = 0\n",
        "\n",
        "  def on_epoch_end(self, epoch, logs=None):\n",
        "    if epoch % CONFUSION_MAT_EVERY_X_EPOCHS == 0 and epoch != 0:\n",
        "      self.plot()\n",
        "      self.counter += 1\n",
        "\n",
        "  def plot(self):\n",
        "    test_pred_raw = self.model.predict(self.val_set)\n",
        "    test_pred = np.argmax(test_pred_raw, axis=1)\n",
        "\n",
        "    cm = sklearn.metrics.confusion_matrix(self.val_y, test_pred)\n",
        "    self.plot_confusion_matrix(cm, class_names=[0,1,2,3,4])\n",
        "\n",
        "  def plot_confusion_matrix(self, cm, class_names):\n",
        "    figure = plt.figure(figsize=(8, 8))\n",
        "    plt.imshow(cm, interpolation='nearest', cmap=plt.cm.Blues)\n",
        "    plt.title(\"Confusion matrix\")\n",
        "    plt.colorbar()\n",
        "    tick_marks = np.arange(len(class_names))\n",
        "    plt.xticks(tick_marks, class_names, rotation=45)\n",
        "    plt.yticks(tick_marks, class_names)\n",
        "\n",
        "    labels = np.around(cm.astype('float') / cm.sum(axis=1)[:, np.newaxis], decimals=2)\n",
        "    threshold = cm.max() / 2.\n",
        "    for i, j in itertools.product(range(cm.shape[0]), range(cm.shape[1])):\n",
        "      color = \"white\" if cm[i, j] > threshold else \"black\"\n",
        "      plt.text(j, i, labels[i, j], horizontalalignment=\"center\", color=color)\n",
        "\n",
        "    plt.tight_layout()\n",
        "    plt.ylabel('True label')\n",
        "    plt.xlabel('Predicted label')\n",
        "    plt.savefig(CONFUSION_MATRICES_PATH + 'conf{0}.png'.format(self.counter)) #save file\n",
        "    plt.close()"
      ],
      "execution_count": 8,
      "outputs": []
    },
    {
      "cell_type": "code",
      "metadata": {
        "id": "gxFb-ab7NSjM"
      },
      "source": [
        "# Models definition\n",
        "\n",
        "def getEfficientNetB0():\n",
        "  return [\n",
        "      # architecture\n",
        "      tf.keras.applications.EfficientNetB0(\n",
        "        include_top=True, weights=None, input_tensor=None,\n",
        "        input_shape=INPUT_SHAPE, pooling=None, classes=N_CLASSES,\n",
        "        classifier_activation='softmax', drop_connect_rate=0.4\n",
        "      ),\n",
        "      # preprocess_input\n",
        "      tf.keras.applications.efficientnet.preprocess_input\n",
        "  ]\n",
        "\n",
        "def getResNet50(): \n",
        "  return [\n",
        "      # architecture \n",
        "      tf.keras.applications.ResNet50(\n",
        "        include_top=True, weights=None, input_tensor=None,\n",
        "        input_shape=INPUT_SHAPE, pooling='avg', classes=N_CLASSES,\n",
        "        classifier_activation='softmax'\n",
        "      ),\n",
        "      # preprocess_input\n",
        "      tf.keras.applications.resnet_v2.preprocess_input\n",
        "  ]\n",
        "\n",
        "def getMobileNetV3Small(): \n",
        "  return [\n",
        "      # architecture\n",
        "      tf.keras.applications.MobileNetV3Small(\n",
        "        input_shape=INPUT_SHAPE, alpha=1, minimalistic=True, include_top=True,\n",
        "        weights=None, input_tensor=None, classes=5, pooling=None,\n",
        "        dropout_rate=0, classifier_activation='softmax'\n",
        "      ),\n",
        "      # preprocess_input:\n",
        "      tf.keras.applications.mobilenet_v3.preprocess_input\n",
        "  ]\n",
        "\n",
        "\n",
        "def getDenseNet169(): \n",
        "  return [\n",
        "      # architecture\n",
        "      tf.keras.applications.DenseNet169(\n",
        "          include_top=True, weights=None, input_tensor=None,\n",
        "          input_shape=None, pooling=None, classes=5\n",
        "      ),\n",
        "      # preprocess_input:\n",
        "      tf.keras.applications.densenet.preprocess_input\n",
        "  ]\n",
        "\n",
        "\n",
        "from keras.layers import GlobalAveragePooling2D, Flatten, Dense, Dropout, BatchNormalization\n",
        "def stacked_model_builder(hp):\n",
        "  hp_learning_rate = hp.Float('learning_rate', 1e-05, 1, sampling='log')\n",
        "  hp_label_smoothing = hp.Float('label_smoothing', 1e-09, 1e-02, sampling='log')\n",
        "\n",
        "\n",
        "  hp_arch_drop_connect_rate = hp.Float('hp_arch_drop_connect_rate', 0.1, 0.9, step=0.1)\n",
        "  hp_first_layers_excluded = hp.Int('hp_first_layers_excluded', 0, 1000, default=10)\n",
        "  hp_dense_layer_1_units = hp.Int('hp_dense_layer_1_units', 64, 1024, default=256, step=64)\n",
        "  hp_dense_layer_dropout = hp.Float('hp_dense_layer_dropout', 0.1, 0.9, default=0.5, step=0.1)\n",
        "  hp_num_dense_layers = hp.Int('hp_num_dense_layers', 1, 5, default=2)\n",
        "\n",
        "  model = Sequential()\n",
        "  # initialize the model with input shape\n",
        "  model.add(tf.keras.applications.EfficientNetB0(input_shape = (IMG_SIZE, IMG_SIZE, 3), include_top = False,\n",
        "                           weights = 'imagenet',\n",
        "                           drop_connect_rate=hp_arch_drop_connect_rate))\n",
        "  for layer in model.layers[:hp_first_layers_excluded]:\n",
        "     layer.trainable = False\n",
        "\n",
        "  model.add(GlobalAveragePooling2D())\n",
        "  model.add(Flatten())\n",
        "  model.add(Dense(hp_dense_layer_1_units, activation = 'relu', bias_regularizer=tf.keras.regularizers.L1L2(l1=0.01, l2=0.001)))\n",
        "  model.add(Dropout(hp_dense_layer_dropout))\n",
        "\n",
        "  for i in range(1, hp_num_dense_layers):\n",
        "    model.add(Dense(hp_dense_layer_1_units / 2**i, activation = 'relu', bias_regularizer=tf.keras.regularizers.L1L2(l1=0.01, l2=0.001))) # half the number of units from previous dense layer\n",
        "    model.add(Dropout(hp_dense_layer_dropout))\n",
        "\n",
        "  model.add(Dense(N_CLASSES, activation = 'softmax'))  \n",
        "    \n",
        "  model.compile(optimizer=keras.optimizers.Adam(learning_rate=hp_learning_rate, epsilon=0.1),\n",
        "                loss=keras.losses.CategoricalCrossentropy(label_smoothing=hp_label_smoothing),\n",
        "                metrics=['accuracy'])\n",
        "    \n",
        "  return model\n",
        "\n",
        "\n",
        "def model_builder():  \n",
        "  inputs = tf.keras.layers.Input(shape=INPUT_SHAPE)\n",
        "  architecture, preprocess_input = getDenseNet169() # change architecture here\n",
        "  # input_layer = preprocess_input(tf.keras.layers.Input(shape=INPUT_SHAPE)) #only for mobilenet change inputs to input_layer\n",
        "  model = tf.keras.Model(inputs, architecture(inputs))\n",
        "  \n",
        "  hp_learning_rate = 0.02292 # your value\n",
        "  hp_label_smoothing = 0.0052412 # your value\n",
        "  model.compile(optimizer=keras.optimizers.Adam(learning_rate=hp_learning_rate, epsilon=0.1),\n",
        "                loss=keras.losses.CategoricalCrossentropy(label_smoothing=hp_label_smoothing),\n",
        "                metrics=['accuracy'])\n",
        "\n",
        "\n",
        "  return model"
      ],
      "execution_count": 15,
      "outputs": []
    },
    {
      "cell_type": "code",
      "metadata": {
        "id": "t8FWgDvbP99s",
        "colab": {
          "base_uri": "https://localhost:8080/"
        },
        "outputId": "93c249b0-fd32-4e5f-bd49-895c0729ba2c"
      },
      "source": [
        "\n",
        "\n",
        "if os.path.exists(MODEL_CP_PATH+'saved_model.pb'): # loads saved model in case of a disconnection\n",
        "  model = tf.keras.models.load_model(MODEL_CP_PATH)\n",
        "else:\n",
        "  model = model_builder()\n",
        "\n",
        "tuner = kt.Hyperband(stacked_model_builder,\n",
        "                     objective='val_accuracy',\n",
        "                     max_epochs=5,\n",
        "                     factor=3,\n",
        "                     directory='/content/drive/MyDrive/ml_project/hyperparams_stacked_eff_net_b0_v2',\n",
        "                     project_name='cassava'\n",
        "                     )\n",
        "\n",
        "train_set, val_set = getDatasetsForCrossValidationSplit(n_splits=N_CV_SPLITS ,split_index=0, shuffle=True, split_size=3000)\n",
        "\n",
        "# Tune hyperparameters on first cross-validation (refactor later to use saved hps)\n",
        "tuner.search(train_set, epochs=EPOCHS_TO_TRAIN, validation_data=val_set,callbacks=tuning_callbacks)\n",
        "\n",
        "Get the optimal hyperparameters\n",
        "best_hps = tuner.get_best_hyperparameters()[0]\n",
        "print(best_hps)\n",
        "model = tuner.hypermodel.build()\n",
        "\n",
        "model = stacked_model_builder(None)\n",
        "\n",
        "conf_matrix_plotter = ConfusionMatrix(test_gen, test_gen.classes);\n",
        "live_loss_plotter = PlotLossesKeras()\n",
        "csv_logger = tf.keras.callbacks.CSVLogger(MODEL_CP_PATH+\"model_history_log.csv\", separator=\",\", append=True)\n",
        "\n",
        "training_callbacks = [\n",
        "  tf.keras.callbacks.ReduceLROnPlateau(monitor='val_loss', factor=0.2,\n",
        "                                patience=3, min_lr=0.0001),\n",
        "  tf.keras.callbacks.ModelCheckpoint(\n",
        "      MODEL_CP_PATH, monitor='val_loss', verbose=0, save_best_only=False,\n",
        "      save_weights_only=False, mode='auto', save_freq='epoch',\n",
        "      options=None\n",
        "  ),\n",
        "  csv_logger,\n",
        "  conf_matrix_plotter, # Confusion matrix\n",
        "  live_loss_plotter,   # Accuracy and loss graphs\n",
        "  tf.keras.callbacks.TensorBoard(\n",
        "    log_dir=LOGS_PATH, histogram_freq=1, write_graph=True,\n",
        "    write_images=False, update_freq='epoch', profile_batch=2,\n",
        "    embeddings_freq=0, embeddings_metadata=None\n",
        "  )\n",
        "]\n",
        "\n",
        "model.summary()"
      ],
      "execution_count": 21,
      "outputs": [
        {
          "output_type": "stream",
          "text": [
            "Model: \"sequential_1\"\n",
            "_________________________________________________________________\n",
            "Layer (type)                 Output Shape              Param #   \n",
            "=================================================================\n",
            "efficientnetb0 (Functional)  (None, 7, 7, 1280)        4049571   \n",
            "_________________________________________________________________\n",
            "global_average_pooling2d_1 ( (None, 1280)              0         \n",
            "_________________________________________________________________\n",
            "flatten_1 (Flatten)          (None, 1280)              0         \n",
            "_________________________________________________________________\n",
            "dense_2 (Dense)              (None, 128)               163968    \n",
            "_________________________________________________________________\n",
            "dropout_1 (Dropout)          (None, 128)               0         \n",
            "_________________________________________________________________\n",
            "dense_3 (Dense)              (None, 5)                 645       \n",
            "=================================================================\n",
            "Total params: 4,214,184\n",
            "Trainable params: 4,172,161\n",
            "Non-trainable params: 42,023\n",
            "_________________________________________________________________\n"
          ],
          "name": "stdout"
        }
      ]
    },
    {
      "cell_type": "code",
      "metadata": {
        "id": "SeA1ssr5b05y",
        "colab": {
          "base_uri": "https://localhost:8080/",
          "height": 1000
        },
        "outputId": "3fd63753-5953-47c5-a75e-5f8ab83cbbeb"
      },
      "source": [
        "history = model.fit(train_gen,\n",
        "                    steps_per_epoch=train_gen.n // BATCH_SIZE,\n",
        "                    validation_data=test_gen,\n",
        "                    epochs=EPOCHS_TO_TRAIN,\n",
        "                    callbacks = training_callbacks)"
      ],
      "execution_count": 23,
      "outputs": [
        {
          "output_type": "display_data",
          "data": {
            "image/png": "[encoded data removed]",
            "text/plain": [
              "<Figure size 864x864 with 4 Axes>"
            ]
          },
          "metadata": {
            "tags": [],
            "needs_background": "light"
          }
        },
        {
          "output_type": "stream",
          "text": [
            "accuracy\n",
            "\ttraining         \t (min:    0.653, max:    0.982, cur:    0.982)\n",
            "\tvalidation       \t (min:    0.603, max:    0.731, cur:    0.721)\n",
            "Loss\n",
            "\ttraining         \t (min:    0.052, max:    0.957, cur:    0.053)\n",
            "\tvalidation       \t (min:    0.874, max:    1.499, cur:    1.487)\n",
            "lr\n",
            "\tlr               \t (min:    0.000, max:    0.100, cur:    0.000)\n",
            "Epoch 17/30\n",
            "1716/2024 [========================>.....] - ETA: 1:37 - loss: 0.0541 - accuracy: 0.9814"
          ],
          "name": "stdout"
        },
        {
          "output_type": "error",
          "ename": "KeyboardInterrupt",
          "evalue": "ignored",
          "traceback": [
            "\u001b[0;31m---------------------------------------------------------------------------\u001b[0m",
            "\u001b[0;31mKeyboardInterrupt\u001b[0m                         Traceback (most recent call last)",
            "\u001b[0;32m<ipython-input-23-7846440bcfef>\u001b[0m in \u001b[0;36m<module>\u001b[0;34m()\u001b[0m\n\u001b[1;32m      3\u001b[0m                     \u001b[0mvalidation_data\u001b[0m\u001b[0;34m=\u001b[0m\u001b[0mtest_gen\u001b[0m\u001b[0;34m,\u001b[0m\u001b[0;34m\u001b[0m\u001b[0;34m\u001b[0m\u001b[0m\n\u001b[1;32m      4\u001b[0m                     \u001b[0mepochs\u001b[0m\u001b[0;34m=\u001b[0m\u001b[0mEPOCHS_TO_TRAIN\u001b[0m\u001b[0;34m,\u001b[0m\u001b[0;34m\u001b[0m\u001b[0;34m\u001b[0m\u001b[0m\n\u001b[0;32m----> 5\u001b[0;31m                     callbacks = training_callbacks)\n\u001b[0m",
            "\u001b[0;32m/usr/local/lib/python3.7/dist-packages/tensorflow/python/keras/engine/training.py\u001b[0m in \u001b[0;36mfit\u001b[0;34m(self, x, y, batch_size, epochs, verbose, callbacks, validation_split, validation_data, shuffle, class_weight, sample_weight, initial_epoch, steps_per_epoch, validation_steps, validation_batch_size, validation_freq, max_queue_size, workers, use_multiprocessing)\u001b[0m\n\u001b[1;32m   1098\u001b[0m                 _r=1):\n\u001b[1;32m   1099\u001b[0m               \u001b[0mcallbacks\u001b[0m\u001b[0;34m.\u001b[0m\u001b[0mon_train_batch_begin\u001b[0m\u001b[0;34m(\u001b[0m\u001b[0mstep\u001b[0m\u001b[0;34m)\u001b[0m\u001b[0;34m\u001b[0m\u001b[0;34m\u001b[0m\u001b[0m\n\u001b[0;32m-> 1100\u001b[0;31m               \u001b[0mtmp_logs\u001b[0m \u001b[0;34m=\u001b[0m \u001b[0mself\u001b[0m\u001b[0;34m.\u001b[0m\u001b[0mtrain_function\u001b[0m\u001b[0;34m(\u001b[0m\u001b[0miterator\u001b[0m\u001b[0;34m)\u001b[0m\u001b[0;34m\u001b[0m\u001b[0;34m\u001b[0m\u001b[0m\n\u001b[0m\u001b[1;32m   1101\u001b[0m               \u001b[0;32mif\u001b[0m \u001b[0mdata_handler\u001b[0m\u001b[0;34m.\u001b[0m\u001b[0mshould_sync\u001b[0m\u001b[0;34m:\u001b[0m\u001b[0;34m\u001b[0m\u001b[0;34m\u001b[0m\u001b[0m\n\u001b[1;32m   1102\u001b[0m                 \u001b[0mcontext\u001b[0m\u001b[0;34m.\u001b[0m\u001b[0masync_wait\u001b[0m\u001b[0;34m(\u001b[0m\u001b[0;34m)\u001b[0m\u001b[0;34m\u001b[0m\u001b[0;34m\u001b[0m\u001b[0m\n",
            "\u001b[0;32m/usr/local/lib/python3.7/dist-packages/tensorflow/python/eager/def_function.py\u001b[0m in \u001b[0;36m__call__\u001b[0;34m(self, *args, **kwds)\u001b[0m\n\u001b[1;32m    826\u001b[0m     \u001b[0mtracing_count\u001b[0m \u001b[0;34m=\u001b[0m \u001b[0mself\u001b[0m\u001b[0;34m.\u001b[0m\u001b[0mexperimental_get_tracing_count\u001b[0m\u001b[0;34m(\u001b[0m\u001b[0;34m)\u001b[0m\u001b[0;34m\u001b[0m\u001b[0;34m\u001b[0m\u001b[0m\n\u001b[1;32m    827\u001b[0m     \u001b[0;32mwith\u001b[0m \u001b[0mtrace\u001b[0m\u001b[0;34m.\u001b[0m\u001b[0mTrace\u001b[0m\u001b[0;34m(\u001b[0m\u001b[0mself\u001b[0m\u001b[0;34m.\u001b[0m\u001b[0m_name\u001b[0m\u001b[0;34m)\u001b[0m \u001b[0;32mas\u001b[0m \u001b[0mtm\u001b[0m\u001b[0;34m:\u001b[0m\u001b[0;34m\u001b[0m\u001b[0;34m\u001b[0m\u001b[0m\n\u001b[0;32m--> 828\u001b[0;31m       \u001b[0mresult\u001b[0m \u001b[0;34m=\u001b[0m \u001b[0mself\u001b[0m\u001b[0;34m.\u001b[0m\u001b[0m_call\u001b[0m\u001b[0;34m(\u001b[0m\u001b[0;34m*\u001b[0m\u001b[0margs\u001b[0m\u001b[0;34m,\u001b[0m \u001b[0;34m**\u001b[0m\u001b[0mkwds\u001b[0m\u001b[0;34m)\u001b[0m\u001b[0;34m\u001b[0m\u001b[0;34m\u001b[0m\u001b[0m\n\u001b[0m\u001b[1;32m    829\u001b[0m       \u001b[0mcompiler\u001b[0m \u001b[0;34m=\u001b[0m \u001b[0;34m\"xla\"\u001b[0m \u001b[0;32mif\u001b[0m \u001b[0mself\u001b[0m\u001b[0;34m.\u001b[0m\u001b[0m_experimental_compile\u001b[0m \u001b[0;32melse\u001b[0m \u001b[0;34m\"nonXla\"\u001b[0m\u001b[0;34m\u001b[0m\u001b[0;34m\u001b[0m\u001b[0m\n\u001b[1;32m    830\u001b[0m       \u001b[0mnew_tracing_count\u001b[0m \u001b[0;34m=\u001b[0m \u001b[0mself\u001b[0m\u001b[0;34m.\u001b[0m\u001b[0mexperimental_get_tracing_count\u001b[0m\u001b[0;34m(\u001b[0m\u001b[0;34m)\u001b[0m\u001b[0;34m\u001b[0m\u001b[0;34m\u001b[0m\u001b[0m\n",
            "\u001b[0;32m/usr/local/lib/python3.7/dist-packages/tensorflow/python/eager/def_function.py\u001b[0m in \u001b[0;36m_call\u001b[0;34m(self, *args, **kwds)\u001b[0m\n\u001b[1;32m    853\u001b[0m       \u001b[0;31m# In this case we have created variables on the first call, so we run the\u001b[0m\u001b[0;34m\u001b[0m\u001b[0;34m\u001b[0m\u001b[0;34m\u001b[0m\u001b[0m\n\u001b[1;32m    854\u001b[0m       \u001b[0;31m# defunned version which is guaranteed to never create variables.\u001b[0m\u001b[0;34m\u001b[0m\u001b[0;34m\u001b[0m\u001b[0;34m\u001b[0m\u001b[0m\n\u001b[0;32m--> 855\u001b[0;31m       \u001b[0;32mreturn\u001b[0m \u001b[0mself\u001b[0m\u001b[0;34m.\u001b[0m\u001b[0m_stateless_fn\u001b[0m\u001b[0;34m(\u001b[0m\u001b[0;34m*\u001b[0m\u001b[0margs\u001b[0m\u001b[0;34m,\u001b[0m \u001b[0;34m**\u001b[0m\u001b[0mkwds\u001b[0m\u001b[0;34m)\u001b[0m  \u001b[0;31m# pylint: disable=not-callable\u001b[0m\u001b[0;34m\u001b[0m\u001b[0;34m\u001b[0m\u001b[0m\n\u001b[0m\u001b[1;32m    856\u001b[0m     \u001b[0;32melif\u001b[0m \u001b[0mself\u001b[0m\u001b[0;34m.\u001b[0m\u001b[0m_stateful_fn\u001b[0m \u001b[0;32mis\u001b[0m \u001b[0;32mnot\u001b[0m \u001b[0;32mNone\u001b[0m\u001b[0;34m:\u001b[0m\u001b[0;34m\u001b[0m\u001b[0;34m\u001b[0m\u001b[0m\n\u001b[1;32m    857\u001b[0m       \u001b[0;31m# Release the lock early so that multiple threads can perform the call\u001b[0m\u001b[0;34m\u001b[0m\u001b[0;34m\u001b[0m\u001b[0;34m\u001b[0m\u001b[0m\n",
            "\u001b[0;32m/usr/local/lib/python3.7/dist-packages/tensorflow/python/eager/function.py\u001b[0m in \u001b[0;36m__call__\u001b[0;34m(self, *args, **kwargs)\u001b[0m\n\u001b[1;32m   2941\u001b[0m        filtered_flat_args) = self._maybe_define_function(args, kwargs)\n\u001b[1;32m   2942\u001b[0m     return graph_function._call_flat(\n\u001b[0;32m-> 2943\u001b[0;31m         filtered_flat_args, captured_inputs=graph_function.captured_inputs)  # pylint: disable=protected-access\n\u001b[0m\u001b[1;32m   2944\u001b[0m \u001b[0;34m\u001b[0m\u001b[0m\n\u001b[1;32m   2945\u001b[0m   \u001b[0;34m@\u001b[0m\u001b[0mproperty\u001b[0m\u001b[0;34m\u001b[0m\u001b[0;34m\u001b[0m\u001b[0m\n",
            "\u001b[0;32m/usr/local/lib/python3.7/dist-packages/tensorflow/python/eager/function.py\u001b[0m in \u001b[0;36m_call_flat\u001b[0;34m(self, args, captured_inputs, cancellation_manager)\u001b[0m\n\u001b[1;32m   1917\u001b[0m       \u001b[0;31m# No tape is watching; skip to running the function.\u001b[0m\u001b[0;34m\u001b[0m\u001b[0;34m\u001b[0m\u001b[0;34m\u001b[0m\u001b[0m\n\u001b[1;32m   1918\u001b[0m       return self._build_call_outputs(self._inference_function.call(\n\u001b[0;32m-> 1919\u001b[0;31m           ctx, args, cancellation_manager=cancellation_manager))\n\u001b[0m\u001b[1;32m   1920\u001b[0m     forward_backward = self._select_forward_and_backward_functions(\n\u001b[1;32m   1921\u001b[0m         \u001b[0margs\u001b[0m\u001b[0;34m,\u001b[0m\u001b[0;34m\u001b[0m\u001b[0;34m\u001b[0m\u001b[0m\n",
            "\u001b[0;32m/usr/local/lib/python3.7/dist-packages/tensorflow/python/eager/function.py\u001b[0m in \u001b[0;36mcall\u001b[0;34m(self, ctx, args, cancellation_manager)\u001b[0m\n\u001b[1;32m    558\u001b[0m               \u001b[0minputs\u001b[0m\u001b[0;34m=\u001b[0m\u001b[0margs\u001b[0m\u001b[0;34m,\u001b[0m\u001b[0;34m\u001b[0m\u001b[0;34m\u001b[0m\u001b[0m\n\u001b[1;32m    559\u001b[0m               \u001b[0mattrs\u001b[0m\u001b[0;34m=\u001b[0m\u001b[0mattrs\u001b[0m\u001b[0;34m,\u001b[0m\u001b[0;34m\u001b[0m\u001b[0;34m\u001b[0m\u001b[0m\n\u001b[0;32m--> 560\u001b[0;31m               ctx=ctx)\n\u001b[0m\u001b[1;32m    561\u001b[0m         \u001b[0;32melse\u001b[0m\u001b[0;34m:\u001b[0m\u001b[0;34m\u001b[0m\u001b[0;34m\u001b[0m\u001b[0m\n\u001b[1;32m    562\u001b[0m           outputs = execute.execute_with_cancellation(\n",
            "\u001b[0;32m/usr/local/lib/python3.7/dist-packages/tensorflow/python/eager/execute.py\u001b[0m in \u001b[0;36mquick_execute\u001b[0;34m(op_name, num_outputs, inputs, attrs, ctx, name)\u001b[0m\n\u001b[1;32m     58\u001b[0m     \u001b[0mctx\u001b[0m\u001b[0;34m.\u001b[0m\u001b[0mensure_initialized\u001b[0m\u001b[0;34m(\u001b[0m\u001b[0;34m)\u001b[0m\u001b[0;34m\u001b[0m\u001b[0;34m\u001b[0m\u001b[0m\n\u001b[1;32m     59\u001b[0m     tensors = pywrap_tfe.TFE_Py_Execute(ctx._handle, device_name, op_name,\n\u001b[0;32m---> 60\u001b[0;31m                                         inputs, attrs, num_outputs)\n\u001b[0m\u001b[1;32m     61\u001b[0m   \u001b[0;32mexcept\u001b[0m \u001b[0mcore\u001b[0m\u001b[0;34m.\u001b[0m\u001b[0m_NotOkStatusException\u001b[0m \u001b[0;32mas\u001b[0m \u001b[0me\u001b[0m\u001b[0;34m:\u001b[0m\u001b[0;34m\u001b[0m\u001b[0;34m\u001b[0m\u001b[0m\n\u001b[1;32m     62\u001b[0m     \u001b[0;32mif\u001b[0m \u001b[0mname\u001b[0m \u001b[0;32mis\u001b[0m \u001b[0;32mnot\u001b[0m \u001b[0;32mNone\u001b[0m\u001b[0;34m:\u001b[0m\u001b[0;34m\u001b[0m\u001b[0;34m\u001b[0m\u001b[0m\n",
            "\u001b[0;31mKeyboardInterrupt\u001b[0m: "
          ]
        }
      ]
    },
    {
      "cell_type": "code",
      "metadata": {
        "id": "la4HUucHhl_o",
        "colab": {
          "base_uri": "https://localhost:8080/",
          "height": 234
        },
        "outputId": "6d838dd9-d993-4b56-bd95-8835ed599c4f"
      },
      "source": [
        "model_json = model.to_json()\n",
        "with open(MODEL_CP_PATH+\"evaluation_model.json\", \"w\") as json_file:\n",
        "  json_file.write(model_json)\n",
        "\n",
        "model.save_weights(MODEL_CP_PATH+\"evaluation_model.h5\")"
      ],
      "execution_count": null,
      "outputs": [
        {
          "output_type": "error",
          "ename": "NameError",
          "evalue": "ignored",
          "traceback": [
            "\u001b[0;31m---------------------------------------------------------------------------\u001b[0m",
            "\u001b[0;31mNameError\u001b[0m                                 Traceback (most recent call last)",
            "\u001b[0;32m<ipython-input-6-88530e7f6428>\u001b[0m in \u001b[0;36m<module>\u001b[0;34m()\u001b[0m\n\u001b[0;32m----> 1\u001b[0;31m \u001b[0mmodel_json\u001b[0m \u001b[0;34m=\u001b[0m \u001b[0mmodel\u001b[0m\u001b[0;34m.\u001b[0m\u001b[0mto_json\u001b[0m\u001b[0;34m(\u001b[0m\u001b[0;34m)\u001b[0m\u001b[0;34m\u001b[0m\u001b[0;34m\u001b[0m\u001b[0m\n\u001b[0m\u001b[1;32m      2\u001b[0m \u001b[0;32mwith\u001b[0m \u001b[0mopen\u001b[0m\u001b[0;34m(\u001b[0m\u001b[0mMODEL_CP_PATH\u001b[0m\u001b[0;34m+\u001b[0m\u001b[0;34m\"evaluation_model.json\"\u001b[0m\u001b[0;34m,\u001b[0m \u001b[0;34m\"w\"\u001b[0m\u001b[0;34m)\u001b[0m \u001b[0;32mas\u001b[0m \u001b[0mjson_file\u001b[0m\u001b[0;34m:\u001b[0m\u001b[0;34m\u001b[0m\u001b[0;34m\u001b[0m\u001b[0m\n\u001b[1;32m      3\u001b[0m   \u001b[0mjson_file\u001b[0m\u001b[0;34m.\u001b[0m\u001b[0mwrite\u001b[0m\u001b[0;34m(\u001b[0m\u001b[0mmodel_json\u001b[0m\u001b[0;34m)\u001b[0m\u001b[0;34m\u001b[0m\u001b[0;34m\u001b[0m\u001b[0m\n\u001b[1;32m      4\u001b[0m \u001b[0;34m\u001b[0m\u001b[0m\n\u001b[1;32m      5\u001b[0m \u001b[0mmodel\u001b[0m\u001b[0;34m.\u001b[0m\u001b[0msave_weights\u001b[0m\u001b[0;34m(\u001b[0m\u001b[0mMODEL_CP_PATH\u001b[0m\u001b[0;34m+\u001b[0m\u001b[0;34m\"evaluation_model.h5\"\u001b[0m\u001b[0;34m)\u001b[0m\u001b[0;34m\u001b[0m\u001b[0;34m\u001b[0m\u001b[0m\n",
            "\u001b[0;31mNameError\u001b[0m: name 'model' is not defined"
          ]
        }
      ]
    },
    {
      "cell_type": "code",
      "metadata": {
        "id": "_NxXpZOyLZsO"
      },
      "source": [
        ""
      ],
      "execution_count": null,
      "outputs": []
    }
  ]
}