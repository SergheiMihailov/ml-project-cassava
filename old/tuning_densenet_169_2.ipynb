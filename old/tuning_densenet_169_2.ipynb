{
  "nbformat": 4,
  "nbformat_minor": 0,
  "metadata": {
    "colab": {
      "name": "tuning_densenet_169_2.ipynb",
      "provenance": [],
      "collapsed_sections": [],
      "include_colab_link": true
    },
    "kernelspec": {
      "name": "python3",
      "display_name": "Python 3"
    },
    "language_info": {
      "name": "python"
    },
    "accelerator": "GPU"
  },
  "cells": [
    {
      "cell_type": "markdown",
      "metadata": {
        "id": "view-in-github",
        "colab_type": "text"
      },
      "source": [
        "<a href=\"https://colab.research.google.com/github/SergheiMihailov/ml-project-cassava/blob/main/tuning_densenet_169_2.ipynb\" target=\"_parent\"><img src=\"https://colab.research.google.com/assets/colab-badge.svg\" alt=\"Open In Colab\"/></a>"
      ]
    },
    {
      "cell_type": "code",
      "metadata": {
        "id": "RWtrGfefFbTP",
        "colab": {
          "base_uri": "https://localhost:8080/"
        },
        "outputId": "2fa91b28-7eb0-485b-b34c-db2cb2b98d3f"
      },
      "source": [
        "from google.colab import drive\n",
        "drive.mount('/content/drive')"
      ],
      "execution_count": 2,
      "outputs": [
        {
          "output_type": "stream",
          "text": [
            "Mounted at /content/drive\n"
          ],
          "name": "stdout"
        }
      ]
    },
    {
      "cell_type": "code",
      "metadata": {
        "id": "E0MSPmqZFhxb"
      },
      "source": [
        "# Installs\n",
        "!pip install -q -U keras-tuner"
      ],
      "execution_count": 21,
      "outputs": []
    },
    {
      "cell_type": "code",
      "metadata": {
        "id": "FDjTMtWFFjUp"
      },
      "source": [
        "# Imports\n",
        "import gdown\n",
        "import os\n",
        "import json\n",
        "import csv   \n",
        "import cv2\n",
        "import numpy as np\n",
        "import pandas as pd\n",
        "from PIL import Image\n",
        "import scipy.misc\n",
        "import sklearn\n",
        "from sklearn.model_selection import StratifiedKFold\n",
        "import tensorflow as tf\n",
        "import keras\n",
        "from keras.models import Sequential\n",
        "from keras.preprocessing.image import ImageDataGenerator\n",
        "from keras import backend as K\n",
        "import tensorflow.keras.layers.experimental.preprocessing as keras_preproc\n",
        "import kerastuner as kt\n",
        "import keras\n",
        "import io\n",
        "import json\n",
        "import pandas as pd\n",
        "import tensorflow as tf\n",
        "import sklearn\n",
        "import matplotlib.pyplot as plt\n",
        "import itertools\n",
        "import numpy as np\n",
        "import os, shutil\n",
        "from datetime import datetime\n",
        "from sklearn.model_selection import train_test_split\n",
        "from keras.preprocessing.image import ImageDataGenerator\n",
        "from keras.preprocessing.image import ImageDataGenerator\n",
        "from keras.models import Sequential\n",
        "from keras.layers import Conv2D, MaxPooling2D\n",
        "from keras.layers import Activation, Dropout, Flatten, Dense\n",
        "from keras import backend as K\n",
        "from collections import Counter\n",
        "import random"
      ],
      "execution_count": 22,
      "outputs": []
    },
    {
      "cell_type": "code",
      "metadata": {
        "id": "Skc0SU0UFkLt"
      },
      "source": [
        "TUNING_TRAIN_IMAGES_PATH = 'tuning_train_images/'\n",
        "TUNING_TRAIN_LABELS_PATH = 'tuning_train_data.csv'\n",
        "VALIDATION_IMAGES_PATH = 'val_images/'\n",
        "VALIDATION_LABELS_PATH = 'val_data.csv'\n",
        "\n",
        "LABEL_TO_DISEASE_MAP_PATH = 'label_num_to_disease_map.json'\n",
        "MODEL_CP_PATH = '/content/drive/MyDrive/ml_project/models/'\n",
        "HYPERPARAMETERS_PATH = '/content/drive/MyDrive/ml_project/hyperparams'\n",
        "\n",
        "N_CLASSES = 5\n",
        "\n",
        "# Images\n",
        "IMG_SIZE = 224\n",
        "SIZE = (IMG_SIZE,IMG_SIZE)\n",
        "INPUT_SHAPE = (IMG_SIZE, IMG_SIZE, 3)\n",
        "\n",
        "# Training\n",
        "EPOCHS_TO_TRAIN = 30\n",
        "BATCH_SIZE = 32"
      ],
      "execution_count": 23,
      "outputs": []
    },
    {
      "cell_type": "code",
      "metadata": {
        "id": "Ay0mS2gtFpev"
      },
      "source": [
        "os.chdir('/content/')\n",
        "# Downloading data\n",
        "if not os.path.exists(LABEL_TO_DISEASE_MAP_PATH):\n",
        "  !wget files.brainfriz.com/ml_project/label_num_to_disease_map.json\n",
        "\n",
        "if not os.path.exists(TUNING_TRAIN_IMAGES_PATH): \n",
        "  !wget files.brainfriz.com/ml_project/tuning_data.rar\n",
        "  \n",
        "if not os.path.exists('/content/drive/MyDrive/ml_project/'):\n",
        "  !mkdir /content/drive/MyDrive/ml_project\n",
        "\n",
        "if not os.path.exists(HYPERPARAMETERS_PATH):\n",
        "  !mkdir /content/drive/MyDrive/ml_project/hyperparams"
      ],
      "execution_count": 24,
      "outputs": []
    },
    {
      "cell_type": "code",
      "metadata": {
        "id": "L-WqIN35MJA-",
        "colab": {
          "base_uri": "https://localhost:8080/"
        },
        "outputId": "a9c21415-27e2-47b6-f8dc-00ede559bb5a"
      },
      "source": [
        "!unrar x tuning_data.rar > /dev/null\n"
      ],
      "execution_count": 25,
      "outputs": [
        {
          "output_type": "stream",
          "text": [
            "\n",
            "\n",
            "Would you like to replace the existing file val_images/1010648150.jpg\n",
            "137071 bytes, modified on 2021-03-24 06:54\n",
            "with a new one\n",
            "137071 bytes, modified on 2021-03-24 06:54\n",
            "\n",
            "[Y]es, [N]o, [A]ll, n[E]ver, [R]ename, [Q]uit ^C\n"
          ],
          "name": "stdout"
        }
      ]
    },
    {
      "cell_type": "code",
      "metadata": {
        "id": "kA5rBAFdPYTq"
      },
      "source": [
        "!rm -f tuning_train.rar"
      ],
      "execution_count": 26,
      "outputs": []
    },
    {
      "cell_type": "code",
      "metadata": {
        "colab": {
          "base_uri": "https://localhost:8080/"
        },
        "id": "UzW3QD7terfE",
        "outputId": "d300b98b-c8f5-4703-d292-10a595b7d82f"
      },
      "source": [
        "# Dataset\n",
        "train_data = pd.read_csv(TUNING_TRAIN_LABELS_PATH)\n",
        "validation_data = pd.read_csv(VALIDATION_LABELS_PATH)\n",
        "\n",
        "f = open(LABEL_TO_DISEASE_MAP_PATH)\n",
        "label_class_name = json.load(f)\n",
        "label_class_name = {int(k):v for k,v in label_class_name.items()}\n",
        "\n",
        "train_data['class_name'] = train_data.label.map(label_class_name)\n",
        "validation_data['class_name'] = validation_data.label.map(label_class_name)\n",
        "\n",
        "train_datagen = ImageDataGenerator()\n",
        "test_datagen = ImageDataGenerator()\n",
        "\n",
        "proportion_data_used_for_tuning = 0.2\n",
        "\n",
        "if proportion_data_used_for_tuning:\n",
        "  train_indices = list(range(len(train_data)))\n",
        "  random.shuffle(train_indices)\n",
        "  train_indices = train_indices[:int(proportion_data_used_for_tuning*len(train_indices))]\n",
        "  tuning_data = train_data.iloc[train_indices]\n",
        "\n",
        "  print(Counter(tuning_data['class_name']))\n",
        "\n",
        "train_gen = train_datagen.flow_from_dataframe(tuning_data,\n",
        "                                directory = TUNING_TRAIN_IMAGES_PATH,\n",
        "                                x_col = 'image_id',\n",
        "                                y_col = 'class_name',\n",
        "                                color_mode='rgb',\n",
        "                                class_mode='categorical',\n",
        "                                target_size = SIZE,\n",
        "                                shuffle = True,\n",
        "                                batch_size = BATCH_SIZE)\n",
        "\n",
        "val_gen = test_datagen.flow_from_dataframe(validation_data,\n",
        "                                directory = VALIDATION_IMAGES_PATH,\n",
        "                                x_col = 'image_id',\n",
        "                                y_col = 'class_name',\n",
        "                                color_mode='rgb',\n",
        "                                class_mode='categorical',\n",
        "                                target_size = SIZE,\n",
        "                                shuffle = False,\n",
        "                                batch_size = BATCH_SIZE)"
      ],
      "execution_count": 27,
      "outputs": [
        {
          "output_type": "stream",
          "text": [
            "Counter({'Cassava Mosaic Disease (CMD)': 2635, 'Cassava Bacterial Blight (CBB)': 2546, 'Cassava Green Mottle (CGM)': 2537, 'Cassava Brown Streak Disease (CBSD)': 2530, 'Healthy': 2510})\n",
            "Found 12758 validated image filenames belonging to 5 classes.\n",
            "Found 1000 validated image filenames belonging to 5 classes.\n"
          ],
          "name": "stdout"
        }
      ]
    },
    {
      "cell_type": "code",
      "metadata": {
        "id": "dwv72tFdGHXE"
      },
      "source": [
        "# Models definition\n",
        "\n",
        "def getEfficientNetB0():\n",
        "  return [\n",
        "      # architecture\n",
        "      tf.keras.applications.EfficientNetB0(\n",
        "        include_top=True, weights=None, input_tensor=None,\n",
        "        input_shape=INPUT_SHAPE, pooling=None, classes=N_CLASSES,\n",
        "        classifier_activation='softmax', drop_connect_rate=0.4\n",
        "      ),\n",
        "      # preprocess_input\n",
        "      tf.keras.applications.efficientnet.preprocess_input\n",
        "  ]\n",
        "\n",
        "def getResNet50(): \n",
        "  return [\n",
        "      # architecture \n",
        "      tf.keras.applications.ResNet50(\n",
        "        include_top=True, weights=None, input_tensor=None,\n",
        "        input_shape=INPUT_SHAPE, pooling='avg', classes=N_CLASSES,\n",
        "        classifier_activation='softmax'\n",
        "      ),\n",
        "      # preprocess_input\n",
        "      tf.keras.applications.resnet_v2.preprocess_input\n",
        "  ]\n",
        "\n",
        "def getMobileNetV3Small(): \n",
        "  return [\n",
        "      # architecture\n",
        "      tf.keras.applications.MobileNetV3Small(\n",
        "        input_shape=INPUT_SHAPE, alpha=1, minimalistic=True, include_top=True,\n",
        "        weights=None, input_tensor=None, classes=5, pooling=None,\n",
        "        dropout_rate=0, classifier_activation='softmax'\n",
        "      ),\n",
        "      # preprocess_input:\n",
        "      tf.keras.applications.mobilenet_v3.preprocess_input\n",
        "  ]\n",
        "\n",
        "\n",
        "def getDenseNet169(): \n",
        "  return [\n",
        "      # architecture\n",
        "      tf.keras.applications.DenseNet169(\n",
        "          include_top=True, weights=None, input_tensor=None,\n",
        "          input_shape=None, pooling=None, classes=5\n",
        "      ),\n",
        "      # preprocess_input:\n",
        "      tf.keras.applications.densenet.preprocess_input\n",
        "  ]\n",
        "\n",
        "def model_builder(hp):\n",
        "  inputs = tf.keras.layers.Input(shape=INPUT_SHAPE)\n",
        "  architecture, preprocess_input = getResNet50() # change architecture here\n",
        "  #input_layer = preprocess_input(tf.keras.layers.Input(shape=INPUT_SHAPE)) #only for mobilenet change inputs to input_layer\n",
        "  model = tf.keras.Model(inputs, architecture(inputs))\n",
        "  \n",
        "  hp_learning_rate = hp.Float('learning_rate', 1e-05, 1, sampling='log')\n",
        "  hp_label_smoothing = hp.Float('label_smoothing', 1e-09, 1e-02, sampling='log')\n",
        "\n",
        "  model.compile(optimizer=keras.optimizers.Adam(learning_rate=hp_learning_rate, epsilon=0.1),\n",
        "                loss=keras.losses.CategoricalCrossentropy(label_smoothing=hp_label_smoothing),\n",
        "                metrics=['accuracy'])\n",
        "\n",
        "  return model\n",
        "\n"
      ],
      "execution_count": 29,
      "outputs": []
    },
    {
      "cell_type": "code",
      "metadata": {
        "id": "iV6usKeBL7zk"
      },
      "source": [
        "tuner =None\n",
        "best_hps=None"
      ],
      "execution_count": 31,
      "outputs": []
    },
    {
      "cell_type": "code",
      "metadata": {
        "id": "XFQrKbl7GUJf",
        "colab": {
          "base_uri": "https://localhost:8080/"
        },
        "outputId": "a22b2ec2-3d0f-4d88-c40e-91fe218ea8fb"
      },
      "source": [
        "# Hyperparameter tuning\n",
        "MAX_EPOCHS=15\n",
        "\n",
        "tuning_callbacks = [\n",
        "  tf.keras.callbacks.EarlyStopping(monitor='val_loss', patience=3),\n",
        "  tf.keras.callbacks.ReduceLROnPlateau(monitor='val_loss', factor=0.1,patience=2, min_lr=0.00001),\n",
        "]\n",
        "\n",
        "tuner = kt.Hyperband(model_builder, # make sure to change the model in the model_builder function.\n",
        "                     objective='val_accuracy',\n",
        "                     max_epochs=MAX_EPOCHS,\n",
        "                     factor=3,\n",
        "                     directory=HYPERPARAMETERS_PATH+'max_epochs_'+str(MAX_EPOCHS),\n",
        "                     project_name='cassava')\n",
        "\n",
        "tuner.search(train_gen, epochs=EPOCHS_TO_TRAIN, validation_data=val_gen, callbacks=tuning_callbacks)\n",
        "\n",
        "# Get the optimal hyperparameters\n",
        "best_hps=tuner.get_best_hyperparameters()[0]\n",
        "print(f\"\"\"\n",
        "The hyperparameter search is complete. Optimal values: \\n\n",
        "learning_rate: {best_hps.get('learning_rate')}; \\n\n",
        "label_smoothing: {best_hps.get('label_smoothing')}; \\n\n",
        "\"\"\")\n",
        "\n",
        "model = tuner.get_best_models(num_models=1)[0]\n",
        "model_json = model.to_json()\n",
        "with open(MODEL_CP_PATH+\"tuning_model_max_epochs+\"+str(MAX_EPOCHS)+\".json\", \"w+\") as json_file:\n",
        "  json_file.write(model_json)\n",
        "\n",
        "model.save_weights(MODEL_CP_PATH+\"tuning_model_max_epochs+\"+str(MAX_EPOCHS)+\".h5\")"
      ],
      "execution_count": null,
      "outputs": [
        {
          "output_type": "stream",
          "text": [
            "Trial 18 Complete [00h 25m 16s]\n",
            "val_accuracy: 0.5070000290870667\n",
            "\n",
            "Best val_accuracy So Far: 0.5070000290870667\n",
            "Total elapsed time: 02h 23m 01s\n",
            "\n",
            "Search: Running Trial #19\n",
            "\n",
            "Hyperparameter    |Value             |Best Value So Far \n",
            "learning_rate     |0.00078431        |0.02292           \n",
            "label_smoothing   |0.00013733        |1.019e-07         \n",
            "tuner/epochs      |5                 |15                \n",
            "tuner/initial_e...|0                 |5                 \n",
            "tuner/bracket     |1                 |2                 \n",
            "tuner/round       |0                 |2                 \n",
            "\n",
            "Epoch 1/5\n",
            "  6/399 [..............................] - ETA: 2:15 - loss: 1.8107 - accuracy: 0.3060WARNING:tensorflow:Callback method `on_train_batch_end` is slow compared to the batch time (batch time: 0.1615s vs `on_train_batch_end` time: 0.1853s). Check your callbacks.\n",
            "212/399 [==============>...............] - ETA: 1:06 - loss: 1.6276 - accuracy: 0.2689"
          ],
          "name": "stdout"
        }
      ]
    },
    {
      "cell_type": "code",
      "metadata": {
        "id": "ue4g246oevOs"
      },
      "source": [
        ""
      ],
      "execution_count": null,
      "outputs": []
    },
    {
      "cell_type": "code",
      "metadata": {
        "colab": {
          "base_uri": "https://localhost:8080/",
          "height": 240
        },
        "id": "H5N-L8o9eGvg",
        "outputId": "5b7b9d33-5c98-4069-a084-518f073c0375"
      },
      "source": [
        "model = tuner.get_best_models(num_models=1)\n",
        "model_json = model.to_json()\n",
        "with open(MODEL_CP_PATH+\"tuning_model.json\", \"w+\") as json_file:\n",
        "  json_file.write(model_json)\n",
        "\n",
        "model.save_weights(MODEL_CP_PATH+\"tuning_model.h5\")"
      ],
      "execution_count": 35,
      "outputs": [
        {
          "output_type": "error",
          "ename": "NameError",
          "evalue": "ignored",
          "traceback": [
            "\u001b[0;31m---------------------------------------------------------------------------\u001b[0m",
            "\u001b[0;31mNameError\u001b[0m                                 Traceback (most recent call last)",
            "\u001b[0;32m<ipython-input-35-f744a44a6028>\u001b[0m in \u001b[0;36m<module>\u001b[0;34m()\u001b[0m\n\u001b[0;32m----> 1\u001b[0;31m \u001b[0mmodel_json\u001b[0m \u001b[0;34m=\u001b[0m \u001b[0mmodel\u001b[0m\u001b[0;34m.\u001b[0m\u001b[0mto_json\u001b[0m\u001b[0;34m(\u001b[0m\u001b[0;34m)\u001b[0m\u001b[0;34m\u001b[0m\u001b[0;34m\u001b[0m\u001b[0m\n\u001b[0m\u001b[1;32m      2\u001b[0m \u001b[0;32mwith\u001b[0m \u001b[0mopen\u001b[0m\u001b[0;34m(\u001b[0m\u001b[0mMODEL_CP_PATH\u001b[0m\u001b[0;34m+\u001b[0m\u001b[0;34m\"tuning_model.json\"\u001b[0m\u001b[0;34m,\u001b[0m \u001b[0;34m\"w+\"\u001b[0m\u001b[0;34m)\u001b[0m \u001b[0;32mas\u001b[0m \u001b[0mjson_file\u001b[0m\u001b[0;34m:\u001b[0m\u001b[0;34m\u001b[0m\u001b[0;34m\u001b[0m\u001b[0m\n\u001b[1;32m      3\u001b[0m   \u001b[0mjson_file\u001b[0m\u001b[0;34m.\u001b[0m\u001b[0mwrite\u001b[0m\u001b[0;34m(\u001b[0m\u001b[0mmodel_json\u001b[0m\u001b[0;34m)\u001b[0m\u001b[0;34m\u001b[0m\u001b[0;34m\u001b[0m\u001b[0m\n\u001b[1;32m      4\u001b[0m \u001b[0;34m\u001b[0m\u001b[0m\n\u001b[1;32m      5\u001b[0m \u001b[0mmodel\u001b[0m\u001b[0;34m.\u001b[0m\u001b[0msave_weights\u001b[0m\u001b[0;34m(\u001b[0m\u001b[0mMODEL_CP_PATH\u001b[0m\u001b[0;34m+\u001b[0m\u001b[0;34m\"tuning_model.h5\"\u001b[0m\u001b[0;34m)\u001b[0m\u001b[0;34m\u001b[0m\u001b[0;34m\u001b[0m\u001b[0m\n",
            "\u001b[0;31mNameError\u001b[0m: name 'model' is not defined"
          ]
        }
      ]
    },
    {
      "cell_type": "code",
      "metadata": {
        "id": "vvGucabMeiPL"
      },
      "source": [
        ""
      ],
      "execution_count": null,
      "outputs": []
    }
  ]
}