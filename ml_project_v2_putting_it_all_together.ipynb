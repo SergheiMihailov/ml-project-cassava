{
  "nbformat": 4,
  "nbformat_minor": 0,
  "metadata": {
    "colab": {
      "name": "ml-project-v2-putting-it-all-together",
      "provenance": [],
      "authorship_tag": "ABX9TyO2Ie5g1yWGc7KEFxf/86eY",
      "include_colab_link": true
    },
    "kernelspec": {
      "name": "python3",
      "display_name": "Python 3"
    },
    "accelerator": "GPU"
  },
  "cells": [
    {
      "cell_type": "markdown",
      "metadata": {
        "id": "view-in-github",
        "colab_type": "text"
      },
      "source": [
        "<a href=\"https://colab.research.google.com/github/SergheiMihailov/ml-project-cassava/blob/main/ml_project_v2_putting_it_all_together.ipynb\" target=\"_parent\"><img src=\"https://colab.research.google.com/assets/colab-badge.svg\" alt=\"Open In Colab\"/></a>"
      ]
    },
    {
      "cell_type": "code",
      "metadata": {
        "id": "KRf15KThB4Gb"
      },
      "source": [
        "# Installs\n",
        "!pip install -q -U keras-tuner"
      ],
      "execution_count": 6,
      "outputs": []
    },
    {
      "cell_type": "code",
      "metadata": {
        "id": "DcCmOC3cB8v1"
      },
      "source": [
        "# Imports\n",
        "import gdown\n",
        "import os\n",
        "import json\n",
        "import csv   \n",
        "import cv2\n",
        "import numpy as np\n",
        "import pandas as pd\n",
        "from PIL import Image\n",
        "import scipy.misc\n",
        "from sklearn.model_selection import StratifiedKFold\n",
        "import tensorflow as tf\n",
        "import keras\n",
        "from keras.models import Sequential\n",
        "from keras.preprocessing.image import ImageDataGenerator\n",
        "from keras import backend as K\n",
        "import tensorflow.keras.layers.experimental.preprocessing as keras_preproc\n",
        "import kerastuner as kt"
      ],
      "execution_count": 21,
      "outputs": []
    },
    {
      "cell_type": "code",
      "metadata": {
        "id": "eMOE8zkcawm3"
      },
      "source": [
        "# Constants\n",
        "# Data\n",
        "# full = original + augmented\n",
        "TRAIN_IMAGES_PATH = 'full_train_images/'\n",
        "TRAIN_LABELS_PATH = 'full_train.csv'\n",
        "LABEL_TO_DISEASE_MAP_PATH = 'label_num_to_disease_map.json'\n",
        "CONFUSION_MATRIX_PATH = 'images'\n",
        "MODEL_CP_PATH = 'models'\n",
        "\n",
        "N_CLASSES = 5\n",
        "\n",
        "# Images\n",
        "IMG_SIZE = 224\n",
        "SIZE = (IMG_SIZE,IMG_SIZE)\n",
        "INPUT_SHAPE = (IMG_SIZE, IMG_SIZE, 3)\n",
        "\n",
        "# Training\n",
        "EPOCHS_TO_TRAIN = 40\n",
        "BATCH_SIZE = 16\n",
        "N_CV_SPLITS = 3\n"
      ],
      "execution_count": 22,
      "outputs": []
    },
    {
      "cell_type": "code",
      "metadata": {
        "id": "RbdGjQOxB9lq"
      },
      "source": [
        "# Downloading data\n",
        "if not os.path.exists(TRAIN_LABELS_PATH) or not os.path.exists(LABEL_TO_DISEASE_MAP_PATH):\n",
        "  !gdown --id \"1xbEVK_NigW_5ngwKMHvuOTehYhT2v2WF\" # original train.csv\n",
        "  !wget files.brainfriz.com/aug_train.csv         # augmented train.csv\n",
        "  !wget files.brainfriz.com/full_train.csv        # full train -> augmented + original\n",
        "  !gdown --id \"1SvI9dN2_25c2OlevwK4TjmzBNysjE_PO\" # label mapping\n",
        "\n",
        "if not os.path.exists(TRAIN_IMAGES_PATH):\n",
        "  !wget files.brainfriz.com/train_images.zip      # original images\n",
        "  !wget files.brainfriz.com/augmented_images.zip  # augmented images\n",
        "  os.chdir('/content/')\n",
        "  !unzip -j -qq -o train_images.zip -d full_train_images\n",
        "  !unzip -j -qq -o augmented_images.zip -d full_train_images\n",
        "  \n",
        "if not os.path.exists(CONFUSION_MATRIX_PATH):\n",
        "  !mkdir images #for the confusion matrix images\n",
        "\n",
        "if not os.path.exists(MODEL_CP_PATH):\n",
        "  !mkdir models # for saved models"
      ],
      "execution_count": 23,
      "outputs": []
    },
    {
      "cell_type": "code",
      "metadata": {
        "id": "zlI13XgfWkHy"
      },
      "source": [
        "# Dataset\n",
        "labels = pd.read_csv(TRAIN_LABELS_PATH)\n",
        "f = open(LABEL_TO_DISEASE_MAP_PATH)\n",
        "label_class_name = json.load(f)\n",
        "label_class_name = {int(k):v for k,v in label_class_name.items()}\n",
        "labels['class_name'] = labels.label.map(label_class_name)\n",
        "\n",
        "def getImagesByIds(labels_with_image_id):\n",
        "  return ImageDataGenerator().flow_from_dataframe(\n",
        "      labels_with_image_id,\n",
        "      subset='training',\n",
        "      directory = TRAIN_IMAGES_PATH,\n",
        "      x_col = 'image_id',\n",
        "      y_col = 'class_name',\n",
        "      target_size = SIZE,\n",
        "      color_mode='rgb',\n",
        "      class_mode = 'categorical',\n",
        "      batch_size = BATCH_SIZE)\n",
        "\n",
        "def getDatasetsForCrossValidationSplit(n_splits, split_index, shuffle=False, split_size=None):\n",
        "  kfold = StratifiedKFold(n_splits=n_splits, shuffle=shuffle, random_state=42)\n",
        "\n",
        "  train_indices, val_indices = list(kfold.split(labels['image_id'], labels['label']))[split_index]\n",
        "  \n",
        "  if split_size:\n",
        "    train_indices = train_indices[:split_size*n_splits]\n",
        "    val_indices = val_indices[:split_size]\n",
        "\n",
        "  train_ds = labels.iloc[train_indices]\n",
        "  val_ds = labels.iloc[val_indices]\n",
        "\n",
        "  train_set = getImagesByIds(train_ds)\n",
        "  val_set = getImagesByIds(val_ds)\n",
        "\n",
        "  return train_set, val_set"
      ],
      "execution_count": 24,
      "outputs": []
    },
    {
      "cell_type": "code",
      "metadata": {
        "id": "iEyOTKNNCEiH"
      },
      "source": [
        "# Model definition\n",
        "def getEfficientNetB0():\n",
        "  return [\n",
        "      # architecture\n",
        "      tf.keras.applications.EfficientNetB0(\n",
        "        include_top=True, weights=None, input_tensor=None,\n",
        "        input_shape=INPUT_SHAPE, pooling=None, classes=N_CLASSES,\n",
        "        classifier_activation='softmax', drop_connect_rate=0.4\n",
        "      ),\n",
        "      # preprocess_input\n",
        "      tf.keras.applications.efficientnet.preprocess_input\n",
        "  ]\n",
        "\n",
        "def getResNet50V2(): \n",
        "  return [\n",
        "      # architecture \n",
        "      tf.keras.applications.ResNet50V2(\n",
        "        include_top=True, weights=None, input_tensor=None,\n",
        "        input_shape=INPUT_SHAPE, pooling=None, classes=N_CLASSES,\n",
        "        classifier_activation='softmax'\n",
        "      ),\n",
        "      # preprocess_input\n",
        "      tf.keras.applications.resnet_v2.preprocess_input\n",
        "  ]\n",
        "\n",
        "def getMobileNetV3Small(): \n",
        "  return [\n",
        "      # architecture\n",
        "      tf.keras.applications.MobileNetV3Small(\n",
        "        input_shape=INPUT_SHAPE, alpha=1, minimalistic=True, include_top=True,\n",
        "        weights=None, input_tensor=None, classes=5, pooling='avg',\n",
        "        dropout_rate=0, classifier_activation='softmax'\n",
        "      ),\n",
        "      # preprocess_input:\n",
        "      tf.keras.applications.mobilenet_v3.preprocess_input\n",
        "  ]\n",
        "\n",
        "def model_builder(hp):\n",
        "  architecture, preprocess_input = getEfficientNetB0()\n",
        "\n",
        "  input_layer = preprocess_input(tf.keras.layers.Input(shape=INPUT_SHAPE))\n",
        "\n",
        "  model = tf.keras.Model(input_layer, architecture(input_layer))\n",
        "  \n",
        "  hp_learning_rate = hp.Choice('learning_rate', values=[1e-1, 1e-2, 1e-3, 1e-4])\n",
        "  hp_label_smoothing = hp.Choice('label_smoothing', values=[1e-3, 1e-4, 1e-5, 0.0])\n",
        "\n",
        "  model.compile(optimizer=keras.optimizers.Adam(learning_rate=hp_learning_rate),\n",
        "                loss=keras.losses.CategoricalCrossentropy(label_smoothing=hp_label_smoothing),\n",
        "                metrics=['accuracy'])\n",
        "\n",
        "  return model\n",
        "\n",
        "# callbacks = tf.keras.callbacks.CallbackList(\n",
        "#     callbacks=None, add_history=True, add_progbar=True\n",
        "# )\n",
        "\n",
        "# callbacks.append(cb for cb in [\n",
        "#   tf.keras.callbacks.EarlyStopping(monitor='val_loss', patience=5),\n",
        "#   tf.keras.callbacks.ReduceLROnPlateau(monitor='val_loss', factor=0.2,\n",
        "#                                 patience=5, min_lr=0.001),\n",
        "#   tf.keras.callbacks.ModelCheckpoint(\n",
        "#       MODEL_CP_PATH, monitor='val_loss', verbose=0, save_best_only=False,\n",
        "#       save_weights_only=False, mode='auto', save_freq='epoch',\n",
        "#       options=None\n",
        "#   )\n",
        "# ])\n",
        "\n",
        "tuning_callbacks = [\n",
        "  tf.keras.callbacks.EarlyStopping(monitor='val_loss', patience=5),\n",
        "  tf.keras.callbacks.ReduceLROnPlateau(monitor='val_loss', factor=0.2,\n",
        "                                patience=5, min_lr=0.00001),\n",
        "  # tf.keras.callbacks.ModelCheckpoint(\n",
        "  #     MODEL_CP_PATH, monitor='val_loss', verbose=0, save_best_only=False,\n",
        "  #     save_weights_only=False, mode='auto', save_freq='epoch',\n",
        "  #     options=None\n",
        "  # )\n",
        "]"
      ],
      "execution_count": 59,
      "outputs": []
    },
    {
      "cell_type": "code",
      "metadata": {
        "id": "XWpTEL-Ztelb"
      },
      "source": [
        "!rm -rf hyperparams"
      ],
      "execution_count": 42,
      "outputs": []
    },
    {
      "cell_type": "code",
      "metadata": {
        "colab": {
          "base_uri": "https://localhost:8080/"
        },
        "id": "MkJwB4lcCPNP",
        "outputId": "09435e4f-23ce-4bec-d519-681f278c2c60"
      },
      "source": [
        "# Hyperparameter tuning\n",
        "tuner = kt.Hyperband(model_builder,\n",
        "                     objective='val_accuracy',\n",
        "                     max_epochs=10,\n",
        "                     factor=3,\n",
        "                     directory='hyperparams_2',\n",
        "                     project_name='cassava'\n",
        "                     )\n",
        "\n",
        "stop_early = tf.keras.callbacks.EarlyStopping(monitor='val_loss', patience=5)\n",
        "\n",
        "train_set, val_set = getDatasetsForCrossValidationSplit(n_splits=N_CV_SPLITS ,split_index=0, shuffle=True, split_size=50)\n",
        "# Tune hyperparameters on first cross-validation (refactor later to use saved hps)\n",
        "tuner.search(train_set, epochs=EPOCHS_TO_TRAIN, validation_data=val_set,callbacks=tuning_callbacks)\n",
        "\n",
        "# Get the optimal hyperparameters\n",
        "best_hps=tuner.get_best_hyperparameters()[0]\n",
        "print(f\"\"\"\n",
        "The hyperparameter search is complete. Optimal values: \\n\n",
        "learning_rate: {best_hps.get('learning_rate')}; \\n\n",
        "label_smoothing: {best_hps.get('label_smoothing')}; \\n\n",
        "\"\"\")"
      ],
      "execution_count": 61,
      "outputs": [
        {
          "output_type": "stream",
          "text": [
            "Trial 22 Complete [00h 00m 31s]\n",
            "val_accuracy: 0.5600000023841858\n",
            "\n",
            "Best val_accuracy So Far: 0.5600000023841858\n",
            "Total elapsed time: 00h 09m 42s\n",
            "INFO:tensorflow:Oracle triggered exit\n"
          ],
          "name": "stdout"
        },
        {
          "output_type": "stream",
          "text": [
            "INFO:tensorflow:Oracle triggered exit\n"
          ],
          "name": "stderr"
        },
        {
          "output_type": "stream",
          "text": [
            "\n",
            "The hyperparameter search is complete. Optimal values: \n",
            "\n",
            "learning_rate: 0.001; \n",
            "\n",
            "label_smoothing: 1e-05; \n",
            "\n",
            "\n"
          ],
          "name": "stdout"
        }
      ]
    },
    {
      "cell_type": "code",
      "metadata": {
        "id": "m903KIT_gKpO"
      },
      "source": [
        "# !zip -r hyperparams.zip hyperparams"
      ],
      "execution_count": 55,
      "outputs": []
    },
    {
      "cell_type": "code",
      "metadata": {
        "id": "8maXIUpQUxnR"
      },
      "source": [
        "# Evaluation definitions \n",
        "class ConfusionMatrix(keras.callbacks.Callback):\n",
        "  def __init__(self, val_set, val_y):\n",
        "    self.val_set = val_set\n",
        "    self.val_y = val_y\n",
        "    self.counter = 0\n",
        "\n",
        "  def on_epoch_end(self, epoch, logs=None):\n",
        "    self.plot()\n",
        "    self.counter += 1\n",
        "\n",
        "  def plot(self):\n",
        "    test_pred_raw = self.model.predict(self.val_set)\n",
        "    test_pred = np.argmax(test_pred_raw, axis=1)\n",
        "\n",
        "    cm = sklearn.metrics.confusion_matrix(self.val_y, test_pred)\n",
        "    self.plot_confusion_matrix(cm, class_names=[0,1,2,3,4])\n",
        "\n",
        "  def plot_confusion_matrix(self, cm, class_names):\n",
        "    figure = plt.figure(figsize=(8, 8))\n",
        "    plt.imshow(cm, interpolation='nearest', cmap=plt.cm.Blues)\n",
        "    plt.title(\"Confusion matrix\")\n",
        "    plt.colorbar()\n",
        "    tick_marks = np.arange(len(class_names))\n",
        "    plt.xticks(tick_marks, class_names, rotation=45)\n",
        "    plt.yticks(tick_marks, class_names)\n",
        "\n",
        "    labels = np.around(cm.astype('float') / cm.sum(axis=1)[:, np.newaxis], decimals=2)\n",
        "    threshold = cm.max() / 2.\n",
        "    for i, j in itertools.product(range(cm.shape[0]), range(cm.shape[1])):\n",
        "      color = \"white\" if cm[i, j] > threshold else \"black\"\n",
        "      plt.text(j, i, labels[i, j], horizontalalignment=\"center\", color=color)\n",
        "\n",
        "    plt.tight_layout()\n",
        "    plt.ylabel('True label')\n",
        "    plt.xlabel('Predicted label')\n",
        "    plt.savefig('images/conf{0}.png'.format(self.counter)) #save file\n",
        "    plt.close()\n",
        "\n",
        "# plotter = ConfusionMatrix(val_set, val_set.classes);"
      ],
      "execution_count": 62,
      "outputs": []
    },
    {
      "cell_type": "code",
      "metadata": {
        "colab": {
          "base_uri": "https://localhost:8080/"
        },
        "id": "eUDYLx64CFsL",
        "outputId": "62337f1c-a439-4772-bea4-adfc68e2a5c7"
      },
      "source": [
        "# Training & evaluating the model\n",
        "best_hps = tuner.get_best_hyperparameters()[0]\n",
        "model = tuner.hypermodel.build(best_hps)\n",
        "\n",
        "training_callbacks = [\n",
        "  tf.keras.callbacks.EarlyStopping(monitor='val_loss', patience=5),\n",
        "  tf.keras.callbacks.ReduceLROnPlateau(monitor='val_loss', factor=0.2,\n",
        "                                patience=5, min_lr=0.00001),\n",
        "  tf.keras.callbacks.ModelCheckpoint(\n",
        "      MODEL_CP_PATH, monitor='val_loss', verbose=0, save_best_only=True,\n",
        "      save_weights_only=False, mode='auto', save_freq='epoch',\n",
        "      options=None\n",
        "  )\n",
        "]\n",
        "\n",
        "for i in range(N_CV_SPLITS):\n",
        "  train_set, val_set = getDatasetsForCrossValidationSplit(n_splits=N_CV_SPLITS, split_index=i)\n",
        "\n",
        "  plotter = ConfusionMatrix(val_set, val_set.classes);\n",
        "\n",
        "  history = model.fit(\n",
        "        train_set,\n",
        "        steps_per_epoch=train_set.n // BATCH_SIZE,\n",
        "        validation_data=val_set,\n",
        "        epochs=EPOCHS_TO_TRAIN,\n",
        "        callbacks = [plotter, *training_callbacks]\n",
        "  )\n",
        "\n",
        "val_acc_per_epoch = history.history['val_accuracy']\n",
        "best_epoch = val_acc_per_epoch.index(max(val_acc_per_epoch)) + 1\n",
        "print('Best epoch: %d' % (best_epoch,))"
      ],
      "execution_count": null,
      "outputs": [
        {
          "output_type": "stream",
          "text": [
            "/usr/local/lib/python3.7/dist-packages/sklearn/model_selection/_split.py:296: FutureWarning: Setting a random_state has no effect since shuffle is False. This will raise an error in 0.24. You should leave random_state to its default (None), or set shuffle=True.\n",
            "  FutureWarning\n"
          ],
          "name": "stderr"
        },
        {
          "output_type": "stream",
          "text": [
            "Found 43859 validated image filenames belonging to 5 classes.\n",
            "Found 21930 validated image filenames belonging to 5 classes.\n",
            "Epoch 1/40\n",
            "   6/2741 [..............................] - ETA: 13:17 - loss: 5.2219 - accuracy: 0.2101WARNING:tensorflow:Callback method `on_train_batch_end` is slow compared to the batch time (batch time: 0.1089s vs `on_train_batch_end` time: 0.1928s). Check your callbacks.\n"
          ],
          "name": "stdout"
        },
        {
          "output_type": "stream",
          "text": [
            "WARNING:tensorflow:Callback method `on_train_batch_end` is slow compared to the batch time (batch time: 0.1089s vs `on_train_batch_end` time: 0.1928s). Check your callbacks.\n"
          ],
          "name": "stderr"
        },
        {
          "output_type": "stream",
          "text": [
            " 100/2741 [>.............................] - ETA: 12:30 - loss: 3.5059 - accuracy: 0.2571"
          ],
          "name": "stdout"
        }
      ]
    },
    {
      "cell_type": "code",
      "metadata": {
        "id": "EZY6jZS_CIoL"
      },
      "source": [
        "# The End"
      ],
      "execution_count": 52,
      "outputs": []
    },
    {
      "cell_type": "code",
      "metadata": {
        "id": "W4l9mkmFkLnN"
      },
      "source": [
        "# Our own model"
      ],
      "execution_count": 50,
      "outputs": []
    }
  ]
}