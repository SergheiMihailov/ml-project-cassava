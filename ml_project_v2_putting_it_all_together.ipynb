{
  "nbformat": 4,
  "nbformat_minor": 0,
  "metadata": {
    "colab": {
      "name": "ml-project-v2-putting-it-all-together",
      "provenance": [],
      "collapsed_sections": [],
      "authorship_tag": "ABX9TyODTDozC5XYnydTa++gZ2ec",
      "include_colab_link": true
    },
    "kernelspec": {
      "name": "python3",
      "display_name": "Python 3"
    },
    "accelerator": "GPU"
  },
  "cells": [
    {
      "cell_type": "markdown",
      "metadata": {
        "id": "view-in-github",
        "colab_type": "text"
      },
      "source": [
        "<a href=\"https://colab.research.google.com/github/SergheiMihailov/ml-project-cassava/blob/main/ml_project_v2_putting_it_all_together.ipynb\" target=\"_parent\"><img src=\"https://colab.research.google.com/assets/colab-badge.svg\" alt=\"Open In Colab\"/></a>"
      ]
    },
    {
      "cell_type": "code",
      "metadata": {
        "colab": {
          "base_uri": "https://localhost:8080/"
        },
        "id": "0vA8RiWL8LPO",
        "outputId": "a72fff81-dc2e-4f1f-f5e0-dd3ae88962c1"
      },
      "source": [
        "from google.colab import drive\n",
        "drive.mount('/content/drive')"
      ],
      "execution_count": 1,
      "outputs": [
        {
          "output_type": "stream",
          "text": [
            "Mounted at /content/drive\n"
          ],
          "name": "stdout"
        }
      ]
    },
    {
      "cell_type": "code",
      "metadata": {
        "colab": {
          "base_uri": "https://localhost:8080/"
        },
        "id": "KRf15KThB4Gb",
        "outputId": "7ce3a4f5-b370-4a3b-d879-0da201d801e7"
      },
      "source": [
        "# Installs\n",
        "!pip install -q -U keras-tuner"
      ],
      "execution_count": 2,
      "outputs": [
        {
          "output_type": "stream",
          "text": [
            "\u001b[?25l\r\u001b[K     |█████▏                          | 10kB 24.9MB/s eta 0:00:01\r\u001b[K     |██████████▍                     | 20kB 30.5MB/s eta 0:00:01\r\u001b[K     |███████████████▋                | 30kB 25.2MB/s eta 0:00:01\r\u001b[K     |████████████████████▉           | 40kB 28.8MB/s eta 0:00:01\r\u001b[K     |██████████████████████████      | 51kB 27.1MB/s eta 0:00:01\r\u001b[K     |███████████████████████████████▎| 61kB 29.5MB/s eta 0:00:01\r\u001b[K     |████████████████████████████████| 71kB 10.0MB/s \n",
            "\u001b[?25h  Building wheel for keras-tuner (setup.py) ... \u001b[?25l\u001b[?25hdone\n",
            "  Building wheel for terminaltables (setup.py) ... \u001b[?25l\u001b[?25hdone\n"
          ],
          "name": "stdout"
        }
      ]
    },
    {
      "cell_type": "code",
      "metadata": {
        "id": "DcCmOC3cB8v1"
      },
      "source": [
        "# Imports\n",
        "import gdown\n",
        "import os\n",
        "import json\n",
        "import csv   \n",
        "import cv2\n",
        "import numpy as np\n",
        "import pandas as pd\n",
        "from PIL import Image\n",
        "import scipy.misc\n",
        "import sklearn\n",
        "from sklearn.model_selection import StratifiedKFold\n",
        "import tensorflow as tf\n",
        "import keras\n",
        "from keras.models import Sequential\n",
        "from keras.preprocessing.image import ImageDataGenerator\n",
        "from keras import backend as K\n",
        "import tensorflow.keras.layers.experimental.preprocessing as keras_preproc\n",
        "import kerastuner as kt\n",
        "import keras\n",
        "import io\n",
        "import json\n",
        "import pandas as pd\n",
        "import tensorflow as tf\n",
        "import sklearn\n",
        "import matplotlib.pyplot as plt\n",
        "import itertools\n",
        "import numpy as np\n",
        "import os, shutil\n",
        "from datetime import datetime\n",
        "from sklearn.model_selection import train_test_split\n",
        "from keras.preprocessing.image import ImageDataGenerator\n",
        "from keras.preprocessing.image import ImageDataGenerator\n",
        "from keras.models import Sequential\n",
        "from keras.layers import Conv2D, MaxPooling2D\n",
        "from keras.layers import Activation, Dropout, Flatten, Dense\n",
        "from keras import backend as K\n",
        "from collections import Counter\n",
        "import random"
      ],
      "execution_count": 1,
      "outputs": []
    },
    {
      "cell_type": "code",
      "metadata": {
        "id": "eMOE8zkcawm3"
      },
      "source": [
        "# Constants\n",
        "# Data\n",
        "# full = original + augmented\n",
        "TRAIN_IMAGES_PATH = 'full_train_images/'\n",
        "TRAIN_LABELS_PATH = 'full_train.csv'\n",
        "LABEL_TO_DISEASE_MAP_PATH = 'label_num_to_disease_map.json'\n",
        "CONFUSION_MATRICES_PATH = '/content/drive/MyDrive/ml_project/confusion_matrices/'\n",
        "MODEL_CP_PATH = '/content/drive/MyDrive/ml_project/models/'\n",
        "\n",
        "N_CLASSES = 5\n",
        "\n",
        "# Images\n",
        "IMG_SIZE = 224\n",
        "SIZE = (IMG_SIZE,IMG_SIZE)\n",
        "INPUT_SHAPE = (IMG_SIZE, IMG_SIZE, 3)\n",
        "\n",
        "# Training\n",
        "EPOCHS_TO_TRAIN = 30\n",
        "BATCH_SIZE = 32\n",
        "N_CV_SPLITS = 3\n"
      ],
      "execution_count": 2,
      "outputs": []
    },
    {
      "cell_type": "code",
      "metadata": {
        "id": "RbdGjQOxB9lq"
      },
      "source": [
        "# Downloading data\n",
        "if not os.path.exists(TRAIN_LABELS_PATH) or not os.path.exists(LABEL_TO_DISEASE_MAP_PATH):\n",
        "  !gdown --id \"1xbEVK_NigW_5ngwKMHvuOTehYhT2v2WF\" # original train.csv\n",
        "  !wget files.brainfriz.com/aug_train.csv         # augmented train.csv\n",
        "  !wget files.brainfriz.com/full_train.csv        # full train -> augmented + original\n",
        "  !gdown --id \"1SvI9dN2_25c2OlevwK4TjmzBNysjE_PO\" # label mapping\n",
        "\n",
        "if not os.path.exists(TRAIN_IMAGES_PATH):\n",
        "  !wget files.brainfriz.com/train_images.zip      # original images\n",
        "  !wget files.brainfriz.com/augmented_images.zip  # augmented images\n",
        "  os.chdir('/content/')\n",
        "  !unzip -j -qq -o train_images.zip -d full_train_images\n",
        "  !unzip -j -qq -o augmented_images.zip -d full_train_images\n",
        "  \n",
        "\n",
        "if not os.path.exists('/content/drive/MyDrive/ml_project/'):\n",
        "  !mkdir /content/drive/MyDrive/ml_project\n",
        "  \n",
        "if not os.path.exists(CONFUSION_MATRICES_PATH):\n",
        "  !mkdir /content/drive/MyDrive/ml_project/confusion_matrices #for the confusion matrix images\n",
        "\n",
        "if not os.path.exists(MODEL_CP_PATH):\n",
        "  !mkdir /content/drive/MyDrive/ml_project/models # for saved models"
      ],
      "execution_count": 3,
      "outputs": []
    },
    {
      "cell_type": "code",
      "metadata": {
        "colab": {
          "base_uri": "https://localhost:8080/",
          "height": 695
        },
        "id": "zlI13XgfWkHy",
        "outputId": "afbf4bcc-e0bd-4cf9-d121-a6a296317437"
      },
      "source": [
        "# Dataset\n",
        "labels = pd.read_csv(TRAIN_LABELS_PATH)\n",
        "f = open(LABEL_TO_DISEASE_MAP_PATH)\n",
        "label_class_name = json.load(f)\n",
        "label_class_name = {int(k):v for k,v in label_class_name.items()}\n",
        "labels['class_name'] = labels.label.map(label_class_name)\n",
        "\n",
        "print(labels)\n",
        "\n",
        "def viewLabelDistribution(labels_list):\n",
        "  w = 0.5\n",
        "  label_dist = Counter(labels_list)\n",
        "  fig, ax = plt.subplots(figsize=(10,6), constrained_layout=True)\n",
        "  ax.hist(x=labels_list, bins=np.arange(6)-w/2, width=w)\n",
        "  ax.set_xlabel('Labels', fontsize=15)\n",
        "  ax.set_ylabel('Frequency', fontsize=15)\n",
        "  ax.tick_params(axis='both', which='major', labelsize=13)\n",
        "\n",
        "  i = 0\n",
        "  for val in range(5):\n",
        "      ax.text(x=i-0.14, y=int(label_dist[i])+8, s=label_dist[i], fontsize=13)\n",
        "      i+=1\n",
        "      \n",
        "  plt.xticks(ticks=list(range(5)), labels=list(range(5)), rotation=0)\n",
        "  plt.savefig('disease_distribution.pdf', dpi=100)\n",
        "\n",
        "viewLabelDistribution(labels['label'])\n",
        "\n",
        "def getImagesByIds(labels_with_image_id):\n",
        "  return ImageDataGenerator().flow_from_dataframe(\n",
        "      labels_with_image_id,\n",
        "      subset='training',\n",
        "      directory = TRAIN_IMAGES_PATH,\n",
        "      x_col = 'image_id',\n",
        "      y_col = 'class_name',\n",
        "      target_size = SIZE,\n",
        "      color_mode='rgb',\n",
        "      class_mode = 'categorical',\n",
        "      batch_size = BATCH_SIZE,\n",
        "      dtype='float16')\n",
        "\n",
        "def getDatasetsForCrossValidationSplit(n_splits, split_index, shuffle=False, split_size=None):\n",
        "  kfold = StratifiedKFold(n_splits=n_splits, shuffle=shuffle, random_state=42)\n",
        "\n",
        "  train_indices, val_indices = list(kfold.split(labels['image_id'], labels['label']))[split_index]\n",
        "\n",
        "  if split_size:\n",
        "    random.shuffle(train_indices)\n",
        "    random.shuffle(val_indices)\n",
        "\n",
        "  if split_size:\n",
        "    train_indices = train_indices[:split_size*n_splits]\n",
        "    val_indices = val_indices[:split_size]\n",
        "\n",
        "  train_ds = labels.iloc[train_indices]\n",
        "  val_ds = labels.iloc[val_indices]\n",
        "\n",
        "  viewLabelDistribution(train_ds['label'])\n",
        "  viewLabelDistribution(val_ds['label'])\n",
        "\n",
        "  train_set = getImagesByIds(train_ds)\n",
        "  val_set = getImagesByIds(val_ds)\n",
        "\n",
        "  return train_set, val_set\n"
      ],
      "execution_count": 4,
      "outputs": [
        {
          "output_type": "stream",
          "text": [
            "                         image_id  label                           class_name\n",
            "0                  1000015157.jpg      0       Cassava Bacterial Blight (CBB)\n",
            "1                  1000201771.jpg      3         Cassava Mosaic Disease (CMD)\n",
            "2                   100042118.jpg      1  Cassava Brown Streak Disease (CBSD)\n",
            "3                  1000723321.jpg      1  Cassava Brown Streak Disease (CBSD)\n",
            "4                  1000812911.jpg      3         Cassava Mosaic Disease (CMD)\n",
            "...                           ...    ...                                  ...\n",
            "65784  aug_4_10576_1386911368.jpg      4                              Healthy\n",
            "65785  aug_4_10577_1388871610.jpg      4                              Healthy\n",
            "65786  aug_4_10578_1389754395.jpg      4                              Healthy\n",
            "65787  aug_4_10579_1391719532.jpg      4                              Healthy\n",
            "65788  aug_4_10580_1394172142.jpg      4                              Healthy\n",
            "\n",
            "[65789 rows x 3 columns]\n"
          ],
          "name": "stdout"
        },
        {
          "output_type": "display_data",
          "data": {
            "image/png": "[encoded data removed]",
            "text/plain": [
              "<Figure size 720x432 with 1 Axes>"
            ]
          },
          "metadata": {
            "tags": [],
            "needs_background": "light"
          }
        }
      ]
    },
    {
      "cell_type": "code",
      "metadata": {
        "id": "iEyOTKNNCEiH"
      },
      "source": [
        "# Model definition\n",
        "def getEfficientNetB3():\n",
        "  return [\n",
        "      # architecture\n",
        "      tf.keras.applications.EfficientNetB3(\n",
        "        include_top=True, weights=None, input_tensor=None,\n",
        "        input_shape=INPUT_SHAPE, pooling=None, classes=N_CLASSES,\n",
        "        classifier_activation='softmax', drop_connect_rate=0.4\n",
        "      ),\n",
        "      # preprocess_input\n",
        "      tf.keras.applications.efficientnet.preprocess_input\n",
        "  ]\n",
        "\n",
        "def getResNet50V2(): \n",
        "  return [\n",
        "      # architecture \n",
        "      tf.keras.applications.ResNet50V2(\n",
        "        include_top=True, weights=None, input_tensor=None,\n",
        "        input_shape=INPUT_SHAPE, pooling=None, classes=N_CLASSES,\n",
        "        classifier_activation='softmax'\n",
        "      ),\n",
        "      # preprocess_input\n",
        "      tf.keras.applications.resnet_v2.preprocess_input\n",
        "  ]\n",
        "\n",
        "def getMobileNetV3Small(): \n",
        "  return [\n",
        "      # architecture\n",
        "      tf.keras.applications.MobileNetV3Small(\n",
        "        input_shape=INPUT_SHAPE, alpha=1, minimalistic=True, include_top=True,\n",
        "        weights=None, input_tensor=None, classes=5, pooling='avg',\n",
        "        dropout_rate=0, classifier_activation='softmax'\n",
        "      ),\n",
        "      # preprocess_input:\n",
        "      tf.keras.applications.mobilenet_v3.preprocess_input\n",
        "  ]\n",
        "\n",
        "def model_builder(hp):\n",
        "  architecture, preprocess_input = getEfficientNetB3()\n",
        "\n",
        "  input_layer = preprocess_input(tf.keras.layers.Input(shape=INPUT_SHAPE))\n",
        "\n",
        "  model = tf.keras.Model(input_layer, architecture(input_layer))\n",
        "  \n",
        "  hp_learning_rate = hp.Choice('learning_rate', values=[1e-1, 1e-2, 1e-3, 1e-4])\n",
        "  hp_label_smoothing = hp.Choice('label_smoothing', values=[1e-3, 1e-4, 1e-5, 0.0])\n",
        "\n",
        "  model.compile(optimizer=keras.optimizers.Adam(learning_rate=hp_learning_rate, epsilon=0.1),\n",
        "                loss=keras.losses.CategoricalCrossentropy(label_smoothing=hp_label_smoothing),\n",
        "                metrics=['accuracy'])\n",
        "\n",
        "  return model\n",
        "\n",
        "tuning_callbacks = [\n",
        "  tf.keras.callbacks.EarlyStopping(monitor='val_loss', patience=5),\n",
        "  tf.keras.callbacks.ReduceLROnPlateau(monitor='val_loss', factor=0.2,\n",
        "                                patience=5, min_lr=0.00001),\n",
        "  # tf.keras.callbacks.BaseLogger(\n",
        "  #   stateful_metrics=None\n",
        "  # ),\n",
        "  # tf.keras.callbacks.ProgbarLogger(\n",
        "  #   count_mode='samples', stateful_metrics=None\n",
        "  # ),\n",
        "]"
      ],
      "execution_count": 5,
      "outputs": []
    },
    {
      "cell_type": "code",
      "metadata": {
        "colab": {
          "base_uri": "https://localhost:8080/"
        },
        "id": "MkJwB4lcCPNP",
        "outputId": "7f25d43c-65ea-471e-a1d4-15e4d9bb49a3"
      },
      "source": [
        "# Hyperparameter tuning\n",
        "tuner = kt.Hyperband(model_builder,\n",
        "                     objective='val_accuracy',\n",
        "                     max_epochs=5,\n",
        "                     factor=3,\n",
        "                     directory='/content/drive/MyDrive/ml_project/hyperparamseff_net_b3',\n",
        "                     project_name='cassava'\n",
        "                     )\n",
        "\n",
        "train_set, val_set = getDatasetsForCrossValidationSplit(n_splits=N_CV_SPLITS ,split_index=0, shuffle=True, split_size=3000)\n",
        "\n",
        "# Tune hyperparameters on first cross-validation (refactor later to use saved hps)\n",
        "tuner.search(train_set, epochs=EPOCHS_TO_TRAIN, validation_data=val_set,callbacks=tuning_callbacks)\n",
        "\n",
        "# Get the optimal hyperparameters\n",
        "best_hps=tuner.get_best_hyperparameters()[0]\n",
        "print(f\"\"\"\n",
        "The hyperparameter search is complete. Optimal values: \\n\n",
        "learning_rate: {best_hps.get('learning_rate')}; \\n\n",
        "label_smoothing: {best_hps.get('label_smoothing')}; \\n\n",
        "\"\"\")"
      ],
      "execution_count": null,
      "outputs": [
        {
          "output_type": "stream",
          "text": [
            "Trial 3 Complete [00h 06m 37s]\n",
            "val_accuracy: 0.2083333283662796\n",
            "\n",
            "Best val_accuracy So Far: 0.2226666659116745\n",
            "Total elapsed time: 00h 19m 48s\n",
            "\n",
            "Search: Running Trial #4\n",
            "\n",
            "Hyperparameter    |Value             |Best Value So Far \n",
            "learning_rate     |0.1               |0.1               \n",
            "label_smoothing   |1e-05             |0.0001            \n",
            "tuner/epochs      |2                 |2                 \n",
            "tuner/initial_e...|0                 |0                 \n",
            "tuner/bracket     |1                 |1                 \n",
            "tuner/round       |0                 |0                 \n",
            "\n",
            "Epoch 1/2\n",
            "  6/282 [..............................] - ETA: 2:42 - loss: 8.9317 - accuracy: 0.2017WARNING:tensorflow:Callback method `on_train_batch_end` is slow compared to the batch time (batch time: 0.2311s vs `on_train_batch_end` time: 0.3193s). Check your callbacks.\n",
            "282/282 [==============================] - 202s 673ms/step - loss: 3.9245 - accuracy: 0.2258 - val_loss: 2.0900 - val_accuracy: 0.2107\n",
            "Epoch 2/2\n",
            "171/282 [=================>............] - ETA: 1:06 - loss: 1.8380 - accuracy: 0.2113"
          ],
          "name": "stdout"
        }
      ]
    },
    {
      "cell_type": "code",
      "metadata": {
        "id": "8maXIUpQUxnR"
      },
      "source": [
        "# Evaluation definitions \n",
        "class ConfusionMatrix(keras.callbacks.Callback):\n",
        "  def __init__(self, val_set, val_y):\n",
        "    self.val_set = val_set\n",
        "    self.val_y = val_y\n",
        "    self.counter = 0\n",
        "\n",
        "  def on_epoch_end(self, epoch, logs=None):\n",
        "    self.plot()\n",
        "    self.counter += 1\n",
        "\n",
        "  def plot(self):\n",
        "    test_pred_raw = self.model.predict(self.val_set)\n",
        "    test_pred = np.argmax(test_pred_raw, axis=1)\n",
        "\n",
        "    cm = sklearn.metrics.confusion_matrix(self.val_y, test_pred)\n",
        "    self.plot_confusion_matrix(cm, class_names=[0,1,2,3,4])\n",
        "\n",
        "  def plot_confusion_matrix(self, cm, class_names):\n",
        "    figure = plt.figure(figsize=(8, 8))\n",
        "    plt.imshow(cm, interpolation='nearest', cmap=plt.cm.Blues)\n",
        "    plt.title(\"Confusion matrix\")\n",
        "    plt.colorbar()\n",
        "    tick_marks = np.arange(len(class_names))\n",
        "    plt.xticks(tick_marks, class_names, rotation=45)\n",
        "    plt.yticks(tick_marks, class_names)\n",
        "\n",
        "    labels = np.around(cm.astype('float') / cm.sum(axis=1)[:, np.newaxis], decimals=2)\n",
        "    threshold = cm.max() / 2.\n",
        "    for i, j in itertools.product(range(cm.shape[0]), range(cm.shape[1])):\n",
        "      color = \"white\" if cm[i, j] > threshold else \"black\"\n",
        "      plt.text(j, i, labels[i, j], horizontalalignment=\"center\", color=color)\n",
        "\n",
        "    plt.tight_layout()\n",
        "    plt.ylabel('True label')\n",
        "    plt.xlabel('Predicted label')\n",
        "    plt.savefig(CONFUSION_MATRICES_PATH + 'conf{0}.png'.format(self.counter)) #save file\n",
        "    plt.close()\n",
        "\n",
        "# plotter = ConfusionMatrix(val_set, val_set.classes);"
      ],
      "execution_count": null,
      "outputs": []
    },
    {
      "cell_type": "code",
      "metadata": {
        "colab": {
          "base_uri": "https://localhost:8080/"
        },
        "id": "eUDYLx64CFsL",
        "outputId": "409f425c-cbd1-4098-e9ff-95a66d3f5ded"
      },
      "source": [
        "# Training & evaluating the model\n",
        "best_hps = tuner.get_best_hyperparameters()[0]\n",
        "model = tuner.hypermodel.build(best_hps)\n",
        "\n",
        "training_callbacks = [\n",
        "  tf.keras.callbacks.EarlyStopping(monitor='val_loss', patience=5),\n",
        "  tf.keras.callbacks.ReduceLROnPlateau(monitor='val_loss', factor=0.1,\n",
        "                                patience=2, min_lr=0.00001),\n",
        "  tf.keras.callbacks.ModelCheckpoint(\n",
        "      MODEL_CP_PATH, monitor='val_loss', verbose=0, save_best_only=False,\n",
        "      save_weights_only=False, mode='auto', save_freq='epoch',\n",
        "      options=None\n",
        "  )\n",
        "]\n",
        "\n",
        "for i in range(N_CV_SPLITS):\n",
        "  train_set, val_set = getDatasetsForCrossValidationSplit(n_splits=N_CV_SPLITS, split_index=i)\n",
        "\n",
        "  plotter = ConfusionMatrix(val_set, val_set.classes);\n",
        "\n",
        "  history = model.fit(\n",
        "        train_set,\n",
        "        steps_per_epoch=train_set.n // BATCH_SIZE,\n",
        "        validation_data=val_set,\n",
        "        epochs=EPOCHS_TO_TRAIN,\n",
        "        callbacks = [plotter, *training_callbacks]\n",
        "  )\n",
        "\n",
        "val_acc_per_epoch = history.history['val_accuracy']\n",
        "best_epoch = val_acc_per_epoch.index(max(val_acc_per_epoch)) + 1\n",
        "print('Best epoch: %d' % (best_epoch,))"
      ],
      "execution_count": null,
      "outputs": [
        {
          "output_type": "stream",
          "text": [
            "/usr/local/lib/python3.7/dist-packages/sklearn/model_selection/_split.py:296: FutureWarning: Setting a random_state has no effect since shuffle is False. This will raise an error in 0.24. You should leave random_state to its default (None), or set shuffle=True.\n",
            "  FutureWarning\n"
          ],
          "name": "stderr"
        },
        {
          "output_type": "stream",
          "text": [
            "Found 43859 validated image filenames belonging to 5 classes.\n",
            "Found 21930 validated image filenames belonging to 5 classes.\n",
            "Epoch 1/30\n",
            "   6/1370 [..............................] - ETA: 24:37 - loss: 2.6321 - accuracy: 0.1901WARNING:tensorflow:Callback method `on_train_batch_end` is slow compared to the batch time (batch time: 0.4663s vs `on_train_batch_end` time: 0.6175s). Check your callbacks.\n",
            " 439/1370 [========>.....................] - ETA: 16:44 - loss: 2.3453 - accuracy: 0.2594"
          ],
          "name": "stdout"
        }
      ]
    },
    {
      "cell_type": "code",
      "metadata": {
        "id": "EZY6jZS_CIoL"
      },
      "source": [
        "# The End"
      ],
      "execution_count": null,
      "outputs": []
    },
    {
      "cell_type": "code",
      "metadata": {
        "id": "W4l9mkmFkLnN"
      },
      "source": [
        "# Our own model"
      ],
      "execution_count": null,
      "outputs": []
    }
  ]
}